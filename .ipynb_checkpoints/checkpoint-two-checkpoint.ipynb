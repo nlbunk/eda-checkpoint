{
 "cells": [
  {
   "cell_type": "markdown",
   "metadata": {
    "azdata_cell_guid": "151601c9-ca7a-412e-af80-c62a87e0837e"
   },
   "source": [
    "# Checkpoint Two: Exploratory Data Analysis\n",
    "\n",
    "Now that your chosen dataset is approved, it is time to start working on your analysis. Use this notebook to perform your EDA and make notes where directed to as you work.\n",
    "\n",
    "## Getting Started\n",
    "\n",
    "Since we have not provided your dataset for you, you will need to load the necessary files in this repository. Make sure to include a link back to the original dataset here as well.\n",
    "\n",
    "My dataset:\n",
    "\n",
    "Your first task in EDA is to import necessary libraries and create a dataframe(s). Make note in the form of code comments of what your thought process is as you work on this setup task."
   ]
  },
  {
   "cell_type": "code",
   "execution_count": 24,
   "metadata": {},
   "outputs": [],
   "source": [
    "import sqlite3 as sl\n",
    "import pandas as pd\n",
    "import numpy as np\n",
    "import seaborn as sns\n",
    "import matplotlib.pyplot as plt\n",
    "from matplotlib import style"
   ]
  },
  {
   "cell_type": "code",
   "execution_count": 25,
   "metadata": {},
   "outputs": [],
   "source": [
    "# create dataframes from my excel file \n",
    "sales = pd.read_excel('SalesJournal 2005-2021.xlsx',sheet_name=0,index_col=0)\n",
    "cust = pd.read_excel('SalesJournal 2005-2021.xlsx',sheet_name=1,index_col=0)\n",
    "                   "
   ]
  },
  {
   "cell_type": "markdown",
   "metadata": {
    "azdata_cell_guid": "129ce836-524b-4ea8-b394-a959f9308d6a"
   },
   "source": [
    "## Get to Know the Numbers\n",
    "\n",
    "Now that you have everything setup, put any code that you use to get to know the dataframe and its rows and columns better in the cell below. You can use whatever techniques you like, except for visualizations. You will put those in a separate section.\n",
    "\n",
    "When working on your code, make sure to leave comments so that your mentors can understand your thought process."
   ]
  },
  {
   "cell_type": "code",
   "execution_count": 26,
   "metadata": {},
   "outputs": [
    {
     "data": {
      "text/html": [
       "<div>\n",
       "<style scoped>\n",
       "    .dataframe tbody tr th:only-of-type {\n",
       "        vertical-align: middle;\n",
       "    }\n",
       "\n",
       "    .dataframe tbody tr th {\n",
       "        vertical-align: top;\n",
       "    }\n",
       "\n",
       "    .dataframe thead th {\n",
       "        text-align: right;\n",
       "    }\n",
       "</style>\n",
       "<table border=\"1\" class=\"dataframe\">\n",
       "  <thead>\n",
       "    <tr style=\"text-align: right;\">\n",
       "      <th></th>\n",
       "      <th>Account ID</th>\n",
       "      <th>Account Description</th>\n",
       "      <th>Invoice/CM #</th>\n",
       "      <th>Date</th>\n",
       "      <th>Debit Amnt</th>\n",
       "      <th>Credit Amnt</th>\n",
       "      <th>Last Inv Date</th>\n",
       "      <th>Sales Rep ID</th>\n",
       "      <th>Job ID</th>\n",
       "    </tr>\n",
       "    <tr>\n",
       "      <th>Customer ID</th>\n",
       "      <th></th>\n",
       "      <th></th>\n",
       "      <th></th>\n",
       "      <th></th>\n",
       "      <th></th>\n",
       "      <th></th>\n",
       "      <th></th>\n",
       "      <th></th>\n",
       "      <th></th>\n",
       "    </tr>\n",
       "  </thead>\n",
       "  <tbody>\n",
       "    <tr>\n",
       "      <th>WATERO</th>\n",
       "      <td>30020</td>\n",
       "      <td>Sales - Turf Repair</td>\n",
       "      <td>37144</td>\n",
       "      <td>2020-04-01</td>\n",
       "      <td>NaN</td>\n",
       "      <td>2607.75</td>\n",
       "      <td>2021-12-29</td>\n",
       "      <td>JAMESV</td>\n",
       "      <td>20001-02JV,02-PLANTING,00-REVENUE</td>\n",
       "    </tr>\n",
       "    <tr>\n",
       "      <th>WATERO</th>\n",
       "      <td>30020</td>\n",
       "      <td>Sales - Turf Repair</td>\n",
       "      <td>37147</td>\n",
       "      <td>2020-04-01</td>\n",
       "      <td>NaN</td>\n",
       "      <td>3806.04</td>\n",
       "      <td>2021-12-29</td>\n",
       "      <td>JAMESV</td>\n",
       "      <td>20001-02JV,02-PLANTING,00-REVENUE</td>\n",
       "    </tr>\n",
       "    <tr>\n",
       "      <th>WATERO</th>\n",
       "      <td>30020</td>\n",
       "      <td>Sales - Turf Repair</td>\n",
       "      <td>37148</td>\n",
       "      <td>2020-04-02</td>\n",
       "      <td>NaN</td>\n",
       "      <td>2070.17</td>\n",
       "      <td>2021-12-29</td>\n",
       "      <td>JAMESV</td>\n",
       "      <td>20001-02JV,02-PLANTING,00-REVENUE</td>\n",
       "    </tr>\n",
       "    <tr>\n",
       "      <th>WATERO</th>\n",
       "      <td>30020</td>\n",
       "      <td>Sales - Turf Repair</td>\n",
       "      <td>37155</td>\n",
       "      <td>2020-04-03</td>\n",
       "      <td>NaN</td>\n",
       "      <td>3558.18</td>\n",
       "      <td>2021-12-29</td>\n",
       "      <td>JAMESV</td>\n",
       "      <td>20001-02JV,02-PLANTING,00-REVENUE</td>\n",
       "    </tr>\n",
       "    <tr>\n",
       "      <th>WATERO</th>\n",
       "      <td>30020</td>\n",
       "      <td>Sales - Turf Repair</td>\n",
       "      <td>37172</td>\n",
       "      <td>2020-04-10</td>\n",
       "      <td>NaN</td>\n",
       "      <td>2825.81</td>\n",
       "      <td>2021-12-29</td>\n",
       "      <td>JAMESV</td>\n",
       "      <td>20001-02JV,15-Turf Repair,00-REVENUE</td>\n",
       "    </tr>\n",
       "  </tbody>\n",
       "</table>\n",
       "</div>"
      ],
      "text/plain": [
       "             Account ID  Account Description Invoice/CM #       Date  \\\n",
       "Customer ID                                                            \n",
       "WATERO            30020  Sales - Turf Repair        37144 2020-04-01   \n",
       "WATERO            30020  Sales - Turf Repair        37147 2020-04-01   \n",
       "WATERO            30020  Sales - Turf Repair        37148 2020-04-02   \n",
       "WATERO            30020  Sales - Turf Repair        37155 2020-04-03   \n",
       "WATERO            30020  Sales - Turf Repair        37172 2020-04-10   \n",
       "\n",
       "             Debit Amnt  Credit Amnt Last Inv Date Sales Rep ID  \\\n",
       "Customer ID                                                       \n",
       "WATERO              NaN      2607.75    2021-12-29       JAMESV   \n",
       "WATERO              NaN      3806.04    2021-12-29       JAMESV   \n",
       "WATERO              NaN      2070.17    2021-12-29       JAMESV   \n",
       "WATERO              NaN      3558.18    2021-12-29       JAMESV   \n",
       "WATERO              NaN      2825.81    2021-12-29       JAMESV   \n",
       "\n",
       "                                           Job ID  \n",
       "Customer ID                                        \n",
       "WATERO          20001-02JV,02-PLANTING,00-REVENUE  \n",
       "WATERO          20001-02JV,02-PLANTING,00-REVENUE  \n",
       "WATERO          20001-02JV,02-PLANTING,00-REVENUE  \n",
       "WATERO          20001-02JV,02-PLANTING,00-REVENUE  \n",
       "WATERO       20001-02JV,15-Turf Repair,00-REVENUE  "
      ]
     },
     "execution_count": 26,
     "metadata": {},
     "output_type": "execute_result"
    }
   ],
   "source": [
    "#look at the sales file\n",
    "sales.head(5)"
   ]
  },
  {
   "cell_type": "code",
   "execution_count": 27,
   "metadata": {},
   "outputs": [
    {
     "data": {
      "text/html": [
       "<div>\n",
       "<style scoped>\n",
       "    .dataframe tbody tr th:only-of-type {\n",
       "        vertical-align: middle;\n",
       "    }\n",
       "\n",
       "    .dataframe tbody tr th {\n",
       "        vertical-align: top;\n",
       "    }\n",
       "\n",
       "    .dataframe thead th {\n",
       "        text-align: right;\n",
       "    }\n",
       "</style>\n",
       "<table border=\"1\" class=\"dataframe\">\n",
       "  <thead>\n",
       "    <tr style=\"text-align: right;\">\n",
       "      <th></th>\n",
       "      <th>Customer</th>\n",
       "      <th>Cust Since</th>\n",
       "      <th>City</th>\n",
       "      <th>State</th>\n",
       "      <th>Zip</th>\n",
       "      <th>Cust Type</th>\n",
       "      <th>Active?</th>\n",
       "      <th>Sales Rep</th>\n",
       "      <th>Sales Acct</th>\n",
       "    </tr>\n",
       "    <tr>\n",
       "      <th>Customer ID</th>\n",
       "      <th></th>\n",
       "      <th></th>\n",
       "      <th></th>\n",
       "      <th></th>\n",
       "      <th></th>\n",
       "      <th></th>\n",
       "      <th></th>\n",
       "      <th></th>\n",
       "      <th></th>\n",
       "    </tr>\n",
       "  </thead>\n",
       "  <tbody>\n",
       "    <tr>\n",
       "      <th>103</th>\n",
       "      <td>DBSI Discover Real Estate Services</td>\n",
       "      <td>2008-07-21</td>\n",
       "      <td>Overland Park</td>\n",
       "      <td>KS</td>\n",
       "      <td>66210</td>\n",
       "      <td>COMM</td>\n",
       "      <td>Active</td>\n",
       "      <td>GCP3</td>\n",
       "      <td>30900</td>\n",
       "    </tr>\n",
       "    <tr>\n",
       "      <th>10975</th>\n",
       "      <td>DBSI Discover Real Estate Services</td>\n",
       "      <td>2008-07-21</td>\n",
       "      <td>Overland Park</td>\n",
       "      <td>Ks</td>\n",
       "      <td>66210</td>\n",
       "      <td>NaN</td>\n",
       "      <td>Active</td>\n",
       "      <td>GCP3</td>\n",
       "      <td>30900</td>\n",
       "    </tr>\n",
       "    <tr>\n",
       "      <th>1509WALN</th>\n",
       "      <td>1509 WALNUT, LLC</td>\n",
       "      <td>2018-12-12</td>\n",
       "      <td>KANSAS CITY</td>\n",
       "      <td>MO</td>\n",
       "      <td>64106</td>\n",
       "      <td>SNOW</td>\n",
       "      <td>Active</td>\n",
       "      <td>SNOW</td>\n",
       "      <td>30800</td>\n",
       "    </tr>\n",
       "    <tr>\n",
       "      <th>1617</th>\n",
       "      <td>1617 S POLLARD</td>\n",
       "      <td>2008-07-15</td>\n",
       "      <td>NaN</td>\n",
       "      <td>NaN</td>\n",
       "      <td>NaN</td>\n",
       "      <td>NaN</td>\n",
       "      <td>Inactive</td>\n",
       "      <td>NaN</td>\n",
       "      <td>30200</td>\n",
       "    </tr>\n",
       "    <tr>\n",
       "      <th>1906WYAN</th>\n",
       "      <td>1906 WYANDOTTE, LLC</td>\n",
       "      <td>2019-01-28</td>\n",
       "      <td>Kansas City</td>\n",
       "      <td>MO</td>\n",
       "      <td>64108</td>\n",
       "      <td>SNOW</td>\n",
       "      <td>Active</td>\n",
       "      <td>SNOW/GEORGE</td>\n",
       "      <td>30800</td>\n",
       "    </tr>\n",
       "  </tbody>\n",
       "</table>\n",
       "</div>"
      ],
      "text/plain": [
       "                                       Customer Cust Since           City  \\\n",
       "Customer ID                                                                 \n",
       "103          DBSI Discover Real Estate Services 2008-07-21  Overland Park   \n",
       "10975        DBSI Discover Real Estate Services 2008-07-21  Overland Park   \n",
       "1509WALN                       1509 WALNUT, LLC 2018-12-12    KANSAS CITY   \n",
       "1617                             1617 S POLLARD 2008-07-15            NaN   \n",
       "1906WYAN                    1906 WYANDOTTE, LLC 2019-01-28    Kansas City   \n",
       "\n",
       "            State    Zip Cust Type   Active?    Sales Rep  Sales Acct  \n",
       "Customer ID                                                            \n",
       "103            KS  66210      COMM    Active         GCP3       30900  \n",
       "10975          Ks  66210       NaN    Active         GCP3       30900  \n",
       "1509WALN       MO  64106      SNOW    Active         SNOW       30800  \n",
       "1617          NaN    NaN       NaN  Inactive          NaN       30200  \n",
       "1906WYAN       MO  64108      SNOW    Active  SNOW/GEORGE       30800  "
      ]
     },
     "execution_count": 27,
     "metadata": {},
     "output_type": "execute_result"
    }
   ],
   "source": [
    "#look at the customer file\n",
    "cust.head(5)"
   ]
  },
  {
   "cell_type": "code",
   "execution_count": 28,
   "metadata": {},
   "outputs": [
    {
     "data": {
      "text/plain": [
       "(4039, 9)"
      ]
     },
     "execution_count": 28,
     "metadata": {},
     "output_type": "execute_result"
    }
   ],
   "source": [
    "# How big is my customer file?\n",
    "cust.shape"
   ]
  },
  {
   "cell_type": "code",
   "execution_count": 29,
   "metadata": {},
   "outputs": [
    {
     "data": {
      "text/plain": [
       "(58231, 9)"
      ]
     },
     "execution_count": 29,
     "metadata": {},
     "output_type": "execute_result"
    }
   ],
   "source": [
    "# How big is my sales file?\n",
    "sales.shape"
   ]
  },
  {
   "cell_type": "code",
   "execution_count": 30,
   "metadata": {
    "azdata_cell_guid": "0ca2d318-f6e8-43ef-a33e-5304d24d928d",
    "tags": []
   },
   "outputs": [
    {
     "name": "stdout",
     "output_type": "stream",
     "text": [
      "Customer         3\n",
      "Cust Since       0\n",
      "City            21\n",
      "State           21\n",
      "Zip             31\n",
      "Cust Type     3194\n",
      "Active?          0\n",
      "Sales Rep     2391\n",
      "Sales Acct       0\n",
      "dtype: int64\n"
     ]
    }
   ],
   "source": [
    "print(cust.isnull().sum()) # How many nulls in my cust columns"
   ]
  },
  {
   "cell_type": "code",
   "execution_count": 31,
   "metadata": {},
   "outputs": [
    {
     "name": "stdout",
     "output_type": "stream",
     "text": [
      "Account ID                 0\n",
      "Account Description        0\n",
      "Invoice/CM #               0\n",
      "Date                       0\n",
      "Debit Amnt             56641\n",
      "Credit Amnt             1591\n",
      "Last Inv Date              0\n",
      "Sales Rep ID             271\n",
      "Job ID                   696\n",
      "dtype: int64\n"
     ]
    }
   ],
   "source": [
    "print(sales.isnull().sum()) # How many nulls in my sales columns\n"
   ]
  },
  {
   "cell_type": "code",
   "execution_count": 32,
   "metadata": {},
   "outputs": [
    {
     "name": "stdout",
     "output_type": "stream",
     "text": [
      "<class 'pandas.core.frame.DataFrame'>\n",
      "Index: 4039 entries, 103 to ZUCK\n",
      "Data columns (total 9 columns):\n",
      " #   Column      Non-Null Count  Dtype         \n",
      "---  ------      --------------  -----         \n",
      " 0   Customer    4036 non-null   object        \n",
      " 1   Cust Since  4039 non-null   datetime64[ns]\n",
      " 2   City        4018 non-null   object        \n",
      " 3   State       4018 non-null   object        \n",
      " 4   Zip         4008 non-null   object        \n",
      " 5   Cust Type   845 non-null    object        \n",
      " 6   Active?     4039 non-null   object        \n",
      " 7   Sales Rep   1648 non-null   object        \n",
      " 8   Sales Acct  4039 non-null   int64         \n",
      "dtypes: datetime64[ns](1), int64(1), object(7)\n",
      "memory usage: 315.5+ KB\n"
     ]
    }
   ],
   "source": [
    "# look at data types\n",
    "cust.info()"
   ]
  },
  {
   "cell_type": "code",
   "execution_count": 33,
   "metadata": {},
   "outputs": [
    {
     "name": "stdout",
     "output_type": "stream",
     "text": [
      "<class 'pandas.core.frame.DataFrame'>\n",
      "Index: 58231 entries, WATERO to ELITE\n",
      "Data columns (total 9 columns):\n",
      " #   Column               Non-Null Count  Dtype         \n",
      "---  ------               --------------  -----         \n",
      " 0   Account ID           58231 non-null  int64         \n",
      " 1   Account Description  58231 non-null  object        \n",
      " 2   Invoice/CM #         58231 non-null  object        \n",
      " 3   Date                 58231 non-null  datetime64[ns]\n",
      " 4   Debit Amnt           1590 non-null   float64       \n",
      " 5   Credit Amnt          56640 non-null  float64       \n",
      " 6   Last Inv Date        58231 non-null  datetime64[ns]\n",
      " 7   Sales Rep ID         57960 non-null  object        \n",
      " 8   Job ID               57535 non-null  object        \n",
      "dtypes: datetime64[ns](2), float64(2), int64(1), object(4)\n",
      "memory usage: 4.4+ MB\n"
     ]
    }
   ],
   "source": [
    "sales.info()"
   ]
  },
  {
   "cell_type": "code",
   "execution_count": 34,
   "metadata": {},
   "outputs": [
    {
     "data": {
      "text/html": [
       "<div>\n",
       "<style scoped>\n",
       "    .dataframe tbody tr th:only-of-type {\n",
       "        vertical-align: middle;\n",
       "    }\n",
       "\n",
       "    .dataframe tbody tr th {\n",
       "        vertical-align: top;\n",
       "    }\n",
       "\n",
       "    .dataframe thead th {\n",
       "        text-align: right;\n",
       "    }\n",
       "</style>\n",
       "<table border=\"1\" class=\"dataframe\">\n",
       "  <thead>\n",
       "    <tr style=\"text-align: right;\">\n",
       "      <th></th>\n",
       "      <th>Account ID</th>\n",
       "      <th>Debit Amnt</th>\n",
       "      <th>Credit Amnt</th>\n",
       "    </tr>\n",
       "  </thead>\n",
       "  <tbody>\n",
       "    <tr>\n",
       "      <th>count</th>\n",
       "      <td>58231.000000</td>\n",
       "      <td>1590.000000</td>\n",
       "      <td>56640.000000</td>\n",
       "    </tr>\n",
       "    <tr>\n",
       "      <th>mean</th>\n",
       "      <td>30555.483591</td>\n",
       "      <td>1031.742094</td>\n",
       "      <td>892.951052</td>\n",
       "    </tr>\n",
       "    <tr>\n",
       "      <th>std</th>\n",
       "      <td>290.208320</td>\n",
       "      <td>3502.748222</td>\n",
       "      <td>3053.545354</td>\n",
       "    </tr>\n",
       "    <tr>\n",
       "      <th>min</th>\n",
       "      <td>30020.000000</td>\n",
       "      <td>0.010000</td>\n",
       "      <td>0.010000</td>\n",
       "    </tr>\n",
       "    <tr>\n",
       "      <th>25%</th>\n",
       "      <td>30200.000000</td>\n",
       "      <td>105.000000</td>\n",
       "      <td>85.000000</td>\n",
       "    </tr>\n",
       "    <tr>\n",
       "      <th>50%</th>\n",
       "      <td>30800.000000</td>\n",
       "      <td>249.540000</td>\n",
       "      <td>207.500000</td>\n",
       "    </tr>\n",
       "    <tr>\n",
       "      <th>75%</th>\n",
       "      <td>30810.000000</td>\n",
       "      <td>540.000000</td>\n",
       "      <td>610.000000</td>\n",
       "    </tr>\n",
       "    <tr>\n",
       "      <th>max</th>\n",
       "      <td>30900.000000</td>\n",
       "      <td>61515.000000</td>\n",
       "      <td>213110.000000</td>\n",
       "    </tr>\n",
       "  </tbody>\n",
       "</table>\n",
       "</div>"
      ],
      "text/plain": [
       "         Account ID    Debit Amnt    Credit Amnt\n",
       "count  58231.000000   1590.000000   56640.000000\n",
       "mean   30555.483591   1031.742094     892.951052\n",
       "std      290.208320   3502.748222    3053.545354\n",
       "min    30020.000000      0.010000       0.010000\n",
       "25%    30200.000000    105.000000      85.000000\n",
       "50%    30800.000000    249.540000     207.500000\n",
       "75%    30810.000000    540.000000     610.000000\n",
       "max    30900.000000  61515.000000  213110.000000"
      ]
     },
     "execution_count": 34,
     "metadata": {},
     "output_type": "execute_result"
    }
   ],
   "source": [
    "sales.describe()"
   ]
  },
  {
   "cell_type": "code",
   "execution_count": 35,
   "metadata": {},
   "outputs": [
    {
     "name": "stdout",
     "output_type": "stream",
     "text": [
      "(5, 9)\n"
     ]
    }
   ],
   "source": [
    "# Any duplicate rows in cust?\n",
    "duplicate_rows_df = cust[cust.duplicated()]\n",
    "print(duplicate_rows_df.shape)"
   ]
  },
  {
   "cell_type": "code",
   "execution_count": 36,
   "metadata": {},
   "outputs": [
    {
     "name": "stdout",
     "output_type": "stream",
     "text": [
      "             Account ID  Account Description Invoice/CM #       Date  \\\n",
      "Customer ID                                                            \n",
      "WALJ              30100     Sales - Lighting         8121 2006-03-01   \n",
      "ANAN              30100     Sales - Lighting        17572 2009-08-31   \n",
      "NEWB              30100     Sales - Lighting        21230 2010-11-23   \n",
      "OTTO              30200  Sales - Landscaping         6525 2005-03-28   \n",
      "OLND              30200  Sales - Landscaping         6551 2005-03-31   \n",
      "\n",
      "             Debit Amnt  Credit Amnt Last Inv Date Sales Rep ID  \\\n",
      "Customer ID                                                       \n",
      "WALJ                NaN         65.0    2008-03-10          SVC   \n",
      "ANAN                NaN         75.0    2010-11-12          SVC   \n",
      "NEWB                NaN         15.0    2021-11-30        LARRY   \n",
      "OTTO                NaN         48.0    2005-03-28        ANDYW   \n",
      "OLND                NaN        144.0    2010-03-31        ANDYW   \n",
      "\n",
      "                                        Job ID  \n",
      "Customer ID                                     \n",
      "WALJ           06997-01S,20-SERVICE,00-REVENUE  \n",
      "ANAN           09997-01S,20-SERVICE,00-REVENUE  \n",
      "NEWB         10022-01LM,01-LIGHTING,00-REVENUE  \n",
      "OTTO         05027-02AW,02-PLANTING,00-REVENUE  \n",
      "OLND         05030-02AW,02-PLANTING,00-REVENUE  \n"
     ]
    }
   ],
   "source": [
    "# Any duplicate cols in cust?\n",
    "dup_rows_df = sales[sales.duplicated()]\n",
    "print(dup_rows_df.head(5))"
   ]
  },
  {
   "cell_type": "code",
   "execution_count": 37,
   "metadata": {},
   "outputs": [
    {
     "name": "stdout",
     "output_type": "stream",
     "text": [
      "True\n"
     ]
    }
   ],
   "source": [
    "# any duplicate customer ID's in cust?  \n",
    "boolean = cust.duplicated(subset=['Customer']).any()\n",
    "print(boolean) # True"
   ]
  },
  {
   "cell_type": "code",
   "execution_count": 38,
   "metadata": {},
   "outputs": [
    {
     "data": {
      "text/plain": [
       "Index(['Account ID', 'Account Description', 'Invoice/CM #', 'Date',\n",
       "       'Debit Amnt', 'Credit Amnt', 'Last Inv Date', 'Sales Rep ID', 'Job ID'],\n",
       "      dtype='object')"
      ]
     },
     "execution_count": 38,
     "metadata": {},
     "output_type": "execute_result"
    }
   ],
   "source": [
    "# look at columns to rename \n",
    "sales.columns"
   ]
  },
  {
   "cell_type": "code",
   "execution_count": 39,
   "metadata": {},
   "outputs": [
    {
     "data": {
      "text/plain": [
       "Index(['Customer', 'Cust Since', 'City', 'State', 'Zip', 'Cust Type',\n",
       "       'Active?', 'Sales Rep', 'Sales Acct'],\n",
       "      dtype='object')"
      ]
     },
     "execution_count": 39,
     "metadata": {},
     "output_type": "execute_result"
    }
   ],
   "source": [
    "cust.columns"
   ]
  },
  {
   "cell_type": "code",
   "execution_count": 40,
   "metadata": {},
   "outputs": [
    {
     "data": {
      "text/html": [
       "<div>\n",
       "<style scoped>\n",
       "    .dataframe tbody tr th:only-of-type {\n",
       "        vertical-align: middle;\n",
       "    }\n",
       "\n",
       "    .dataframe tbody tr th {\n",
       "        vertical-align: top;\n",
       "    }\n",
       "\n",
       "    .dataframe thead th {\n",
       "        text-align: right;\n",
       "    }\n",
       "</style>\n",
       "<table border=\"1\" class=\"dataframe\">\n",
       "  <thead>\n",
       "    <tr style=\"text-align: right;\">\n",
       "      <th></th>\n",
       "      <th>Customer</th>\n",
       "      <th>Cust Since</th>\n",
       "      <th>City</th>\n",
       "      <th>Zip</th>\n",
       "    </tr>\n",
       "    <tr>\n",
       "      <th>Customer ID</th>\n",
       "      <th></th>\n",
       "      <th></th>\n",
       "      <th></th>\n",
       "      <th></th>\n",
       "    </tr>\n",
       "  </thead>\n",
       "  <tbody>\n",
       "    <tr>\n",
       "      <th>103</th>\n",
       "      <td>DBSI Discover Real Estate Services</td>\n",
       "      <td>2008-07-21</td>\n",
       "      <td>Overland Park</td>\n",
       "      <td>66210</td>\n",
       "    </tr>\n",
       "    <tr>\n",
       "      <th>10975</th>\n",
       "      <td>DBSI Discover Real Estate Services</td>\n",
       "      <td>2008-07-21</td>\n",
       "      <td>Overland Park</td>\n",
       "      <td>66210</td>\n",
       "    </tr>\n",
       "    <tr>\n",
       "      <th>1509WALN</th>\n",
       "      <td>1509 WALNUT, LLC</td>\n",
       "      <td>2018-12-12</td>\n",
       "      <td>KANSAS CITY</td>\n",
       "      <td>64106</td>\n",
       "    </tr>\n",
       "    <tr>\n",
       "      <th>1617</th>\n",
       "      <td>1617 S POLLARD</td>\n",
       "      <td>2008-07-15</td>\n",
       "      <td>NaN</td>\n",
       "      <td>NaN</td>\n",
       "    </tr>\n",
       "    <tr>\n",
       "      <th>1906WYAN</th>\n",
       "      <td>1906 WYANDOTTE, LLC</td>\n",
       "      <td>2019-01-28</td>\n",
       "      <td>Kansas City</td>\n",
       "      <td>64108</td>\n",
       "    </tr>\n",
       "  </tbody>\n",
       "</table>\n",
       "</div>"
      ],
      "text/plain": [
       "                                       Customer Cust Since           City  \\\n",
       "Customer ID                                                                 \n",
       "103          DBSI Discover Real Estate Services 2008-07-21  Overland Park   \n",
       "10975        DBSI Discover Real Estate Services 2008-07-21  Overland Park   \n",
       "1509WALN                       1509 WALNUT, LLC 2018-12-12    KANSAS CITY   \n",
       "1617                             1617 S POLLARD 2008-07-15            NaN   \n",
       "1906WYAN                    1906 WYANDOTTE, LLC 2019-01-28    Kansas City   \n",
       "\n",
       "               Zip  \n",
       "Customer ID         \n",
       "103          66210  \n",
       "10975        66210  \n",
       "1509WALN     64106  \n",
       "1617           NaN  \n",
       "1906WYAN     64108  "
      ]
     },
     "execution_count": 40,
     "metadata": {},
     "output_type": "execute_result"
    }
   ],
   "source": [
    "# drop columns from customer file not needed\n",
    "cust = cust.drop(['State','Active?','Sales Rep','Sales Acct','Cust Type'], axis=1)\n",
    "cust.head(5)"
   ]
  },
  {
   "cell_type": "code",
   "execution_count": 41,
   "metadata": {},
   "outputs": [
    {
     "data": {
      "text/html": [
       "<div>\n",
       "<style scoped>\n",
       "    .dataframe tbody tr th:only-of-type {\n",
       "        vertical-align: middle;\n",
       "    }\n",
       "\n",
       "    .dataframe tbody tr th {\n",
       "        vertical-align: top;\n",
       "    }\n",
       "\n",
       "    .dataframe thead th {\n",
       "        text-align: right;\n",
       "    }\n",
       "</style>\n",
       "<table border=\"1\" class=\"dataframe\">\n",
       "  <thead>\n",
       "    <tr style=\"text-align: right;\">\n",
       "      <th></th>\n",
       "      <th>Acct_ID</th>\n",
       "      <th>Acct_Desc</th>\n",
       "      <th>Inv_Num</th>\n",
       "      <th>Inv_Date</th>\n",
       "      <th>Debit_Amt</th>\n",
       "      <th>Credit_Amt</th>\n",
       "      <th>Last_Inv_Date</th>\n",
       "      <th>Sales_Rep_ID</th>\n",
       "      <th>Job_ID</th>\n",
       "    </tr>\n",
       "    <tr>\n",
       "      <th>Customer ID</th>\n",
       "      <th></th>\n",
       "      <th></th>\n",
       "      <th></th>\n",
       "      <th></th>\n",
       "      <th></th>\n",
       "      <th></th>\n",
       "      <th></th>\n",
       "      <th></th>\n",
       "      <th></th>\n",
       "    </tr>\n",
       "  </thead>\n",
       "  <tbody>\n",
       "    <tr>\n",
       "      <th>WATERO</th>\n",
       "      <td>30020</td>\n",
       "      <td>Sales - Turf Repair</td>\n",
       "      <td>37144</td>\n",
       "      <td>2020-04-01</td>\n",
       "      <td>NaN</td>\n",
       "      <td>2607.75</td>\n",
       "      <td>2021-12-29</td>\n",
       "      <td>JAMESV</td>\n",
       "      <td>20001-02JV,02-PLANTING,00-REVENUE</td>\n",
       "    </tr>\n",
       "    <tr>\n",
       "      <th>WATERO</th>\n",
       "      <td>30020</td>\n",
       "      <td>Sales - Turf Repair</td>\n",
       "      <td>37147</td>\n",
       "      <td>2020-04-01</td>\n",
       "      <td>NaN</td>\n",
       "      <td>3806.04</td>\n",
       "      <td>2021-12-29</td>\n",
       "      <td>JAMESV</td>\n",
       "      <td>20001-02JV,02-PLANTING,00-REVENUE</td>\n",
       "    </tr>\n",
       "    <tr>\n",
       "      <th>WATERO</th>\n",
       "      <td>30020</td>\n",
       "      <td>Sales - Turf Repair</td>\n",
       "      <td>37148</td>\n",
       "      <td>2020-04-02</td>\n",
       "      <td>NaN</td>\n",
       "      <td>2070.17</td>\n",
       "      <td>2021-12-29</td>\n",
       "      <td>JAMESV</td>\n",
       "      <td>20001-02JV,02-PLANTING,00-REVENUE</td>\n",
       "    </tr>\n",
       "    <tr>\n",
       "      <th>WATERO</th>\n",
       "      <td>30020</td>\n",
       "      <td>Sales - Turf Repair</td>\n",
       "      <td>37155</td>\n",
       "      <td>2020-04-03</td>\n",
       "      <td>NaN</td>\n",
       "      <td>3558.18</td>\n",
       "      <td>2021-12-29</td>\n",
       "      <td>JAMESV</td>\n",
       "      <td>20001-02JV,02-PLANTING,00-REVENUE</td>\n",
       "    </tr>\n",
       "    <tr>\n",
       "      <th>WATERO</th>\n",
       "      <td>30020</td>\n",
       "      <td>Sales - Turf Repair</td>\n",
       "      <td>37172</td>\n",
       "      <td>2020-04-10</td>\n",
       "      <td>NaN</td>\n",
       "      <td>2825.81</td>\n",
       "      <td>2021-12-29</td>\n",
       "      <td>JAMESV</td>\n",
       "      <td>20001-02JV,15-Turf Repair,00-REVENUE</td>\n",
       "    </tr>\n",
       "  </tbody>\n",
       "</table>\n",
       "</div>"
      ],
      "text/plain": [
       "             Acct_ID            Acct_Desc Inv_Num   Inv_Date  Debit_Amt  \\\n",
       "Customer ID                                                               \n",
       "WATERO         30020  Sales - Turf Repair   37144 2020-04-01        NaN   \n",
       "WATERO         30020  Sales - Turf Repair   37147 2020-04-01        NaN   \n",
       "WATERO         30020  Sales - Turf Repair   37148 2020-04-02        NaN   \n",
       "WATERO         30020  Sales - Turf Repair   37155 2020-04-03        NaN   \n",
       "WATERO         30020  Sales - Turf Repair   37172 2020-04-10        NaN   \n",
       "\n",
       "             Credit_Amt Last_Inv_Date Sales_Rep_ID  \\\n",
       "Customer ID                                          \n",
       "WATERO          2607.75    2021-12-29       JAMESV   \n",
       "WATERO          3806.04    2021-12-29       JAMESV   \n",
       "WATERO          2070.17    2021-12-29       JAMESV   \n",
       "WATERO          3558.18    2021-12-29       JAMESV   \n",
       "WATERO          2825.81    2021-12-29       JAMESV   \n",
       "\n",
       "                                           Job_ID  \n",
       "Customer ID                                        \n",
       "WATERO          20001-02JV,02-PLANTING,00-REVENUE  \n",
       "WATERO          20001-02JV,02-PLANTING,00-REVENUE  \n",
       "WATERO          20001-02JV,02-PLANTING,00-REVENUE  \n",
       "WATERO          20001-02JV,02-PLANTING,00-REVENUE  \n",
       "WATERO       20001-02JV,15-Turf Repair,00-REVENUE  "
      ]
     },
     "execution_count": 41,
     "metadata": {},
     "output_type": "execute_result"
    }
   ],
   "source": [
    "# rename columns\n",
    "sales = sales.rename(columns={'Customer ID':'Cust_ID','Date':'Inv_Date','Account ID':'Acct_ID',\n",
    "                      'Invoice/CM #':'Inv_Num','Debit Amnt':'Debit_Amt', 'Credit Amnt':'Credit_Amt',\n",
    "                      'Last Inv Date':'Last_Inv_Date','Account Description':'Acct_Desc',\n",
    "                      'Sales Rep ID':'Sales_Rep_ID','Job ID':'Job_ID'\n",
    "                    })\n",
    "sales.head(5)"
   ]
  },
  {
   "cell_type": "code",
   "execution_count": 42,
   "metadata": {},
   "outputs": [
    {
     "data": {
      "text/html": [
       "<div>\n",
       "<style scoped>\n",
       "    .dataframe tbody tr th:only-of-type {\n",
       "        vertical-align: middle;\n",
       "    }\n",
       "\n",
       "    .dataframe tbody tr th {\n",
       "        vertical-align: top;\n",
       "    }\n",
       "\n",
       "    .dataframe thead th {\n",
       "        text-align: right;\n",
       "    }\n",
       "</style>\n",
       "<table border=\"1\" class=\"dataframe\">\n",
       "  <thead>\n",
       "    <tr style=\"text-align: right;\">\n",
       "      <th></th>\n",
       "      <th>Cust_ID</th>\n",
       "      <th>Cust_Since_Dt</th>\n",
       "      <th>City</th>\n",
       "      <th>Zip</th>\n",
       "    </tr>\n",
       "    <tr>\n",
       "      <th>Customer ID</th>\n",
       "      <th></th>\n",
       "      <th></th>\n",
       "      <th></th>\n",
       "      <th></th>\n",
       "    </tr>\n",
       "  </thead>\n",
       "  <tbody>\n",
       "    <tr>\n",
       "      <th>103</th>\n",
       "      <td>DBSI Discover Real Estate Services</td>\n",
       "      <td>2008-07-21</td>\n",
       "      <td>Overland Park</td>\n",
       "      <td>66210</td>\n",
       "    </tr>\n",
       "    <tr>\n",
       "      <th>10975</th>\n",
       "      <td>DBSI Discover Real Estate Services</td>\n",
       "      <td>2008-07-21</td>\n",
       "      <td>Overland Park</td>\n",
       "      <td>66210</td>\n",
       "    </tr>\n",
       "    <tr>\n",
       "      <th>1509WALN</th>\n",
       "      <td>1509 WALNUT, LLC</td>\n",
       "      <td>2018-12-12</td>\n",
       "      <td>KANSAS CITY</td>\n",
       "      <td>64106</td>\n",
       "    </tr>\n",
       "    <tr>\n",
       "      <th>1617</th>\n",
       "      <td>1617 S POLLARD</td>\n",
       "      <td>2008-07-15</td>\n",
       "      <td>NaN</td>\n",
       "      <td>NaN</td>\n",
       "    </tr>\n",
       "    <tr>\n",
       "      <th>1906WYAN</th>\n",
       "      <td>1906 WYANDOTTE, LLC</td>\n",
       "      <td>2019-01-28</td>\n",
       "      <td>Kansas City</td>\n",
       "      <td>64108</td>\n",
       "    </tr>\n",
       "  </tbody>\n",
       "</table>\n",
       "</div>"
      ],
      "text/plain": [
       "                                        Cust_ID Cust_Since_Dt           City  \\\n",
       "Customer ID                                                                    \n",
       "103          DBSI Discover Real Estate Services    2008-07-21  Overland Park   \n",
       "10975        DBSI Discover Real Estate Services    2008-07-21  Overland Park   \n",
       "1509WALN                       1509 WALNUT, LLC    2018-12-12    KANSAS CITY   \n",
       "1617                             1617 S POLLARD    2008-07-15            NaN   \n",
       "1906WYAN                    1906 WYANDOTTE, LLC    2019-01-28    Kansas City   \n",
       "\n",
       "               Zip  \n",
       "Customer ID         \n",
       "103          66210  \n",
       "10975        66210  \n",
       "1509WALN     64106  \n",
       "1617           NaN  \n",
       "1906WYAN     64108  "
      ]
     },
     "execution_count": 42,
     "metadata": {},
     "output_type": "execute_result"
    }
   ],
   "source": [
    "# rename columns for customer\n",
    "cust = cust.rename(columns={'Customer':'Cust_ID','Cust Since':'Cust_Since_Dt'\n",
    "                    })\n",
    "cust.head(5)"
   ]
  },
  {
   "cell_type": "code",
   "execution_count": 43,
   "metadata": {},
   "outputs": [
    {
     "name": "stderr",
     "output_type": "stream",
     "text": [
      "<ipython-input-43-8ff5d4291570>:1: FutureWarning: Treating datetime data as categorical rather than numeric in `.describe` is deprecated and will be removed in a future version of pandas. Specify `datetime_is_numeric=True` to silence this warning and adopt the future behavior now.\n",
      "  cust.describe()\n"
     ]
    },
    {
     "data": {
      "text/html": [
       "<div>\n",
       "<style scoped>\n",
       "    .dataframe tbody tr th:only-of-type {\n",
       "        vertical-align: middle;\n",
       "    }\n",
       "\n",
       "    .dataframe tbody tr th {\n",
       "        vertical-align: top;\n",
       "    }\n",
       "\n",
       "    .dataframe thead th {\n",
       "        text-align: right;\n",
       "    }\n",
       "</style>\n",
       "<table border=\"1\" class=\"dataframe\">\n",
       "  <thead>\n",
       "    <tr style=\"text-align: right;\">\n",
       "      <th></th>\n",
       "      <th>Cust_ID</th>\n",
       "      <th>Cust_Since_Dt</th>\n",
       "      <th>City</th>\n",
       "      <th>Zip</th>\n",
       "    </tr>\n",
       "  </thead>\n",
       "  <tbody>\n",
       "    <tr>\n",
       "      <th>count</th>\n",
       "      <td>4036</td>\n",
       "      <td>4039</td>\n",
       "      <td>4018</td>\n",
       "      <td>4008</td>\n",
       "    </tr>\n",
       "    <tr>\n",
       "      <th>unique</th>\n",
       "      <td>3966</td>\n",
       "      <td>2012</td>\n",
       "      <td>135</td>\n",
       "      <td>222</td>\n",
       "    </tr>\n",
       "    <tr>\n",
       "      <th>top</th>\n",
       "      <td>MC REALTY GROUP, LLC</td>\n",
       "      <td>2016-11-09 00:00:00</td>\n",
       "      <td>OVERLAND PARK</td>\n",
       "      <td>66221</td>\n",
       "    </tr>\n",
       "    <tr>\n",
       "      <th>freq</th>\n",
       "      <td>16</td>\n",
       "      <td>64</td>\n",
       "      <td>1345</td>\n",
       "      <td>313</td>\n",
       "    </tr>\n",
       "    <tr>\n",
       "      <th>first</th>\n",
       "      <td>NaN</td>\n",
       "      <td>1998-01-05 00:00:00</td>\n",
       "      <td>NaN</td>\n",
       "      <td>NaN</td>\n",
       "    </tr>\n",
       "    <tr>\n",
       "      <th>last</th>\n",
       "      <td>NaN</td>\n",
       "      <td>2022-01-19 00:00:00</td>\n",
       "      <td>NaN</td>\n",
       "      <td>NaN</td>\n",
       "    </tr>\n",
       "  </tbody>\n",
       "</table>\n",
       "</div>"
      ],
      "text/plain": [
       "                     Cust_ID        Cust_Since_Dt           City    Zip\n",
       "count                   4036                 4039           4018   4008\n",
       "unique                  3966                 2012            135    222\n",
       "top     MC REALTY GROUP, LLC  2016-11-09 00:00:00  OVERLAND PARK  66221\n",
       "freq                      16                   64           1345    313\n",
       "first                    NaN  1998-01-05 00:00:00            NaN    NaN\n",
       "last                     NaN  2022-01-19 00:00:00            NaN    NaN"
      ]
     },
     "execution_count": 43,
     "metadata": {},
     "output_type": "execute_result"
    }
   ],
   "source": [
    "cust.describe()\n",
    "# Why are there 222 zip codes?  Because some are billing zip codes, not actual work zip codes.  \n",
    "#  - Will look for outliers when creating a map of work done in kansas city and not include zips outside KC"
   ]
  },
  {
   "cell_type": "code",
   "execution_count": 44,
   "metadata": {},
   "outputs": [],
   "source": [
    "sales['Acct_ID'] = sales['Acct_ID'].astype(str)"
   ]
  },
  {
   "cell_type": "code",
   "execution_count": 45,
   "metadata": {},
   "outputs": [
    {
     "name": "stdout",
     "output_type": "stream",
     "text": [
      "<class 'pandas.core.frame.DataFrame'>\n",
      "Index: 58231 entries, WATERO to ELITE\n",
      "Data columns (total 9 columns):\n",
      " #   Column         Non-Null Count  Dtype         \n",
      "---  ------         --------------  -----         \n",
      " 0   Acct_ID        58231 non-null  object        \n",
      " 1   Acct_Desc      58231 non-null  object        \n",
      " 2   Inv_Num        58231 non-null  object        \n",
      " 3   Inv_Date       58231 non-null  datetime64[ns]\n",
      " 4   Debit_Amt      1590 non-null   float64       \n",
      " 5   Credit_Amt     56640 non-null  float64       \n",
      " 6   Last_Inv_Date  58231 non-null  datetime64[ns]\n",
      " 7   Sales_Rep_ID   57960 non-null  object        \n",
      " 8   Job_ID         57535 non-null  object        \n",
      "dtypes: datetime64[ns](2), float64(2), object(5)\n",
      "memory usage: 4.4+ MB\n"
     ]
    }
   ],
   "source": [
    "# Check to make sure Account ID has been chged to object\n",
    "sales.info()"
   ]
  },
  {
   "cell_type": "markdown",
   "metadata": {
    "azdata_cell_guid": "d45060f3-97bc-484a-9ef4-66145bbe9427"
   },
   "source": [
    "## Visualize\n",
    "\n",
    "Create any visualizations for your EDA here. Make note in the form of code comments of what your thought process is for your visualizations."
   ]
  },
  {
   "cell_type": "code",
   "execution_count": 46,
   "metadata": {},
   "outputs": [
    {
     "name": "stderr",
     "output_type": "stream",
     "text": [
      "/Users/nancybunker/opt/anaconda3/lib/python3.8/site-packages/seaborn/_decorators.py:36: FutureWarning: Pass the following variable as a keyword arg: x. From version 0.12, the only valid positional argument will be `data`, and passing other arguments without an explicit keyword will result in an error or misinterpretation.\n",
      "  warnings.warn(\n"
     ]
    },
    {
     "data": {
      "text/plain": [
       "<AxesSubplot:xlabel='Credit_Amt'>"
      ]
     },
     "execution_count": 46,
     "metadata": {},
     "output_type": "execute_result"
    },
    {
     "data": {
      "image/png": "[encoded data removed]",
      "text/plain": [
       "<Figure size 432x288 with 1 Axes>"
      ]
     },
     "metadata": {
      "needs_background": "light"
     },
     "output_type": "display_data"
    }
   ],
   "source": [
    "# Average sales\n",
    "sns.boxplot(sales['Credit_Amt'])"
   ]
  },
  {
   "cell_type": "code",
   "execution_count": 47,
   "metadata": {},
   "outputs": [
    {
     "name": "stdout",
     "output_type": "stream",
     "text": [
      "            Acct_ID            Acct_Desc Inv_Num   Inv_Date  Debit_Amt  \\\n",
      "Customer ID                                                              \n",
      "WATERO        30020  Sales - Turf Repair   37144 2020-04-01        NaN   \n",
      "WATERO        30020  Sales - Turf Repair   37147 2020-04-01        NaN   \n",
      "WATERO        30020  Sales - Turf Repair   37148 2020-04-02        NaN   \n",
      "WATERO        30020  Sales - Turf Repair   37155 2020-04-03        NaN   \n",
      "WATERO        30020  Sales - Turf Repair   37172 2020-04-10        NaN   \n",
      "\n",
      "             Credit_Amt Last_Inv_Date Sales_Rep_ID  \\\n",
      "Customer ID                                          \n",
      "WATERO          2607.75    2021-12-29       JAMESV   \n",
      "WATERO          3806.04    2021-12-29       JAMESV   \n",
      "WATERO          2070.17    2021-12-29       JAMESV   \n",
      "WATERO          3558.18    2021-12-29       JAMESV   \n",
      "WATERO          2825.81    2021-12-29       JAMESV   \n",
      "\n",
      "                                           Job_ID  year  \n",
      "Customer ID                                              \n",
      "WATERO          20001-02JV,02-PLANTING,00-REVENUE  2020  \n",
      "WATERO          20001-02JV,02-PLANTING,00-REVENUE  2020  \n",
      "WATERO          20001-02JV,02-PLANTING,00-REVENUE  2020  \n",
      "WATERO          20001-02JV,02-PLANTING,00-REVENUE  2020  \n",
      "WATERO       20001-02JV,15-Turf Repair,00-REVENUE  2020  \n"
     ]
    }
   ],
   "source": [
    "#sales['Inv_Date'] = pd.to_datetime(sales['Inv_Date'], format='%d/%m/%Y', errors='coerce')\n",
    "sales['year'] = pd.DatetimeIndex(sales['Inv_Date']).year\n",
    "print(sales.head(5)) #check to see if the year was added as a column\n",
    "                                             "
   ]
  },
  {
   "cell_type": "code",
   "execution_count": 48,
   "metadata": {},
   "outputs": [
    {
     "name": "stdout",
     "output_type": "stream",
     "text": [
      "2010    5519\n",
      "2007    5333\n",
      "2011    5047\n",
      "2008    4906\n",
      "2009    4564\n",
      "2019    3925\n",
      "2005    2982\n",
      "2018    2964\n",
      "2013    2936\n",
      "2006    2927\n",
      "2020    2882\n",
      "2014    2844\n",
      "2015    2747\n",
      "2021    2731\n",
      "2017    2111\n",
      "2012    2031\n",
      "2016    1782\n",
      "Name: year, dtype: int64\n",
      "30200    16893\n",
      "30400     9674\n",
      "30810     8335\n",
      "30820     7529\n",
      "30900     6913\n",
      "30800     6215\n",
      "30100      692\n",
      "30300      614\n",
      "30500      529\n",
      "30803      267\n",
      "30020      226\n",
      "30600      110\n",
      "30700      101\n",
      "30805       77\n",
      "30807       38\n",
      "30801       13\n",
      "30550        5\n",
      "Name: Acct_ID, dtype: int64\n"
     ]
    }
   ],
   "source": [
    "sales_per_year = sales['year'].value_counts()\n",
    "print(sales_per_year)\n",
    "sales_by_ProfitCntr = sales['Acct_ID'].value_counts()\n",
    "print(sales_by_ProfitCntr)"
   ]
  },
  {
   "cell_type": "code",
   "execution_count": 49,
   "metadata": {},
   "outputs": [
    {
     "data": {
      "text/plain": [
       "<AxesSubplot:title={'center':'Total  Number of Sales per Profit Center'}, ylabel='Total # Sales'>"
      ]
     },
     "execution_count": 49,
     "metadata": {},
     "output_type": "execute_result"
    },
    {
     "data": {
      "image/png": "[encoded data removed]",
      "text/plain": [
       "<Figure size 720x360 with 1 Axes>"
      ]
     },
     "metadata": {
      "needs_background": "light"
     },
     "output_type": "display_data"
    }
   ],
   "source": [
    "#Total number of sales per revenue stream\n",
    "fig=plt.figure(figsize= (10,5))\n",
    "plt.title('Total  Number of Sales per Profit Center',color = 'black')\n",
    "plt.ylabel('Total # Sales',color = 'black')\n",
    "\n",
    "sales_by_ProfitCntr.plot(kind='bar',color='green')"
   ]
  },
  {
   "cell_type": "code",
   "execution_count": 50,
   "metadata": {},
   "outputs": [
    {
     "name": "stdout",
     "output_type": "stream",
     "text": [
      "Acct_ID\n",
      "30020      783026.56\n",
      "30100      515380.55\n",
      "30200    33942776.41\n",
      "30300     1517396.47\n",
      "30400      939052.54\n",
      "30500       77114.60\n",
      "30550        5930.29\n",
      "30600      136113.23\n",
      "30700       11151.70\n",
      "30800     3289086.57\n",
      "30801        8900.00\n",
      "30803       98907.93\n",
      "30805       43396.45\n",
      "30807       30121.85\n",
      "30810     2475927.28\n",
      "30820     2215215.37\n",
      "30900     4487249.76\n",
      "Name: Credit_Amt, dtype: float64\n"
     ]
    }
   ],
   "source": [
    "salesByAcct = sales.groupby('Acct_ID')['Credit_Amt'].sum()\n",
    "print(salesByAcct)"
   ]
  },
  {
   "cell_type": "code",
   "execution_count": 51,
   "metadata": {},
   "outputs": [
    {
     "data": {
      "image/png": "[encoded data removed]",
      "text/plain": [
       "<Figure size 1440x720 with 1 Axes>"
      ]
     },
     "metadata": {},
     "output_type": "display_data"
    }
   ],
   "source": [
    "#Total sales per revenue stream\n",
    "style.use('ggplot')\n",
    "fig=plt.figure(figsize= (20,10))\n",
    "salesByAcct.plot(kind='bar',legend=False,x='Acct_ID',y='Credit_Amt',color='blue')\n",
    "plt.title('Total Sales Amount per Profit Center',color = 'black')\n",
    "plt.ylabel('Total Sales',color = 'black')\n",
    "plt.show()\n"
   ]
  },
  {
   "cell_type": "code",
   "execution_count": 52,
   "metadata": {},
   "outputs": [
    {
     "data": {
      "image/png": "[encoded data removed]",
      "text/plain": [
       "<Figure size 1440x720 with 1 Axes>"
      ]
     },
     "metadata": {},
     "output_type": "display_data"
    }
   ],
   "source": [
    "# Show # of sales per year\n",
    "\n",
    "style.use('ggplot')\n",
    "\n",
    "fig=plt.figure(figsize= (20,10))\n",
    "\n",
    "sales_per_year.plot(kind = 'bar', legend = False)\n",
    "plt.title('Sales per Year',color = 'black')\n",
    "plt.xticks(color = 'black')\n",
    "plt.yticks(color = 'black')\n",
    "plt.xlabel('Year',color = 'black')\n",
    "plt.ylabel('Total Sales',color = 'black')\n",
    "plt.show()"
   ]
  },
  {
   "cell_type": "markdown",
   "metadata": {
    "azdata_cell_guid": "d4931c0c-2c09-4ee1-95d4-73dd08c2f0a6"
   },
   "source": [
    "## Summarize Your Results\n",
    "\n",
    "With your EDA complete, answer the following questions.\n",
    "\n",
    "1. Was there anything surprising about your dataset? \n",
    "2. Do you have any concerns about your dataset? \n",
    "3. Is there anything you want to make note of for the next phase of your analysis, which is cleaning data? "
   ]
  },
  {
   "cell_type": "markdown",
   "metadata": {},
   "source": [
    "ANSWERS:\n",
    "1. - I was surprised to see a credit and a debit column instead of a total sales column. \n",
    "   - did not expect nulls in credit and debit columns.\n",
    "   - Had trouble converting several column datatypes that were type 'object'.  I realized when I converted my excel file into csv file it messed with the data.  I changed to read in my excel file.\n",
    "   \n",
    "2. - make sure duplicates found can be deleted..why are they duplicates? I didn't expect any.\n",
    "   - how to handle the nulls in credit amount. If I make them zero it will skew the mean sales.  I may decide to        delete those rows. \n",
    "    \n",
    "    \n",
    "3.  - I will have to figure out how to determine if a customer is a repeat customer.  \n",
    "    - delete rows that have nulls in Credit_Amt\n",
    "    - eliminate duplicates in customer files and sales files\n",
    "    - will have to decide how to handle the zip codes that are outside KC area.  These are addresses that are billed out of state but the work is done in town.\n",
    "    - create total sales column (Credit less Debit)\n",
    "    - create a new column to determine if this is a repeat customer (if 'invoice date' = 'last inv date' this is not a repeat customer.\n",
    "    \n"
   ]
  }
 ],
 "metadata": {
  "kernelspec": {
   "display_name": "Python 3",
   "language": "python",
   "name": "python3"
  },
  "language_info": {
   "codemirror_mode": {
    "name": "ipython",
    "version": 3
   },
   "file_extension": ".py",
   "mimetype": "text/x-python",
   "name": "python",
   "nbconvert_exporter": "python",
   "pygments_lexer": "ipython3",
   "version": "3.8.8"
  }
 },
 "nbformat": 4,
 "nbformat_minor": 2
}
