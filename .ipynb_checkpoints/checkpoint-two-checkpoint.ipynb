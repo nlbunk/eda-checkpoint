{
 "cells": [
  {
   "cell_type": "markdown",
   "metadata": {
    "azdata_cell_guid": "151601c9-ca7a-412e-af80-c62a87e0837e"
   },
   "source": [
    "# Checkpoint Two: Exploratory Data Analysis\n",
    "\n",
    "Now that your chosen dataset is approved, it is time to start working on your analysis. Use this notebook to perform your EDA and make notes where directed to as you work.\n",
    "\n",
    "## Getting Started\n",
    "\n",
    "Since we have not provided your dataset for you, you will need to load the necessary files in this repository. Make sure to include a link back to the original dataset here as well.\n",
    "\n",
    "My dataset:\n",
    "\n",
    "Your first task in EDA is to import necessary libraries and create a dataframe(s). Make note in the form of code comments of what your thought process is as you work on this setup task."
   ]
  },
  {
   "cell_type": "code",
   "execution_count": 470,
   "metadata": {},
   "outputs": [],
   "source": [
    "import sqlite3 as sl\n",
    "import pandas as pd\n",
    "import numpy as np\n",
    "import seaborn as sb\n",
    "import matplotlib.pyplot as plt\n",
    "from matplotlib import style"
   ]
  },
  {
   "cell_type": "code",
   "execution_count": 471,
   "metadata": {},
   "outputs": [],
   "source": [
    "# create dataframes with my csv files\n",
    "cust = pd.read_csv('GE Sales Journal 2010 - 2021.xlsx - GE Cust List.csv')\n",
    "sales = pd.read_csv('GE Sales Journal 2010 - 2021.xlsx - Sales Journal 2010-21.csv')\n",
    "                   \n",
    "\n"
   ]
  },
  {
   "cell_type": "markdown",
   "metadata": {
    "azdata_cell_guid": "129ce836-524b-4ea8-b394-a959f9308d6a"
   },
   "source": [
    "## Get to Know the Numbers\n",
    "\n",
    "Now that you have everything setup, put any code that you use to get to know the dataframe and its rows and columns better in the cell below. You can use whatever techniques you like, except for visualizations. You will put those in a separate section.\n",
    "\n",
    "When working on your code, make sure to leave comments so that your mentors can understand your thought process."
   ]
  },
  {
   "cell_type": "code",
   "execution_count": 413,
   "metadata": {},
   "outputs": [
    {
     "data": {
      "text/plain": [
       "(4039, 9)"
      ]
     },
     "execution_count": 413,
     "metadata": {},
     "output_type": "execute_result"
    }
   ],
   "source": [
    "# How big is my customer file?\n",
    "cust.shape"
   ]
  },
  {
   "cell_type": "code",
   "execution_count": 473,
   "metadata": {},
   "outputs": [
    {
     "data": {
      "text/plain": [
       "(28565, 9)"
      ]
     },
     "execution_count": 473,
     "metadata": {},
     "output_type": "execute_result"
    }
   ],
   "source": [
    "# How big is my sales file?\n",
    "sales.shape"
   ]
  },
  {
   "cell_type": "code",
   "execution_count": 476,
   "metadata": {
    "azdata_cell_guid": "0ca2d318-f6e8-43ef-a33e-5304d24d928d",
    "tags": []
   },
   "outputs": [
    {
     "name": "stdout",
     "output_type": "stream",
     "text": [
      "Customer ID       0\n",
      "Cust Since        0\n",
      "City             21\n",
      "State            21\n",
      "Zip              31\n",
      "Active?           0\n",
      "Sales Rep      2391\n",
      "Sales Acct        0\n",
      "LEAD SOURCE    3946\n",
      "dtype: int64\n"
     ]
    }
   ],
   "source": [
    "cust.head(5) # Look at the columns and data\n",
    "print(cust.isnull().sum()) # How many nulls in my cust columns"
   ]
  },
  {
   "cell_type": "code",
   "execution_count": 477,
   "metadata": {},
   "outputs": [
    {
     "name": "stdout",
     "output_type": "stream",
     "text": [
      "Customer ID                1\n",
      "Date                       1\n",
      "Account ID                 1\n",
      "Invoice/CM #               0\n",
      "Debit Amnt             27748\n",
      "Credit Amnt              225\n",
      "Account Description        1\n",
      "Sales Rep ID              95\n",
      "Sales Rep Name            95\n",
      "dtype: int64\n"
     ]
    }
   ],
   "source": [
    "sales.head(5)  # look at columns and data for sales file\n",
    "print(sales.isnull().sum()) # How many nulls in my sales columns\n"
   ]
  },
  {
   "cell_type": "code",
   "execution_count": 478,
   "metadata": {},
   "outputs": [
    {
     "data": {
      "text/html": [
       "<div>\n",
       "<style scoped>\n",
       "    .dataframe tbody tr th:only-of-type {\n",
       "        vertical-align: middle;\n",
       "    }\n",
       "\n",
       "    .dataframe tbody tr th {\n",
       "        vertical-align: top;\n",
       "    }\n",
       "\n",
       "    .dataframe thead th {\n",
       "        text-align: right;\n",
       "    }\n",
       "</style>\n",
       "<table border=\"1\" class=\"dataframe\">\n",
       "  <thead>\n",
       "    <tr style=\"text-align: right;\">\n",
       "      <th></th>\n",
       "      <th>Customer ID</th>\n",
       "      <th>Date</th>\n",
       "      <th>Account ID</th>\n",
       "      <th>Invoice/CM #</th>\n",
       "      <th>Debit Amnt</th>\n",
       "      <th>Credit Amnt</th>\n",
       "      <th>Account Description</th>\n",
       "      <th>Sales Rep ID</th>\n",
       "      <th>Sales Rep Name</th>\n",
       "    </tr>\n",
       "  </thead>\n",
       "  <tbody>\n",
       "    <tr>\n",
       "      <th>count</th>\n",
       "      <td>28564</td>\n",
       "      <td>28564</td>\n",
       "      <td>28564.000000</td>\n",
       "      <td>28565</td>\n",
       "      <td>817</td>\n",
       "      <td>28340</td>\n",
       "      <td>28564</td>\n",
       "      <td>28470</td>\n",
       "      <td>28470</td>\n",
       "    </tr>\n",
       "    <tr>\n",
       "      <th>unique</th>\n",
       "      <td>2216</td>\n",
       "      <td>2603</td>\n",
       "      <td>NaN</td>\n",
       "      <td>20669</td>\n",
       "      <td>433</td>\n",
       "      <td>5791</td>\n",
       "      <td>12</td>\n",
       "      <td>25</td>\n",
       "      <td>23</td>\n",
       "    </tr>\n",
       "    <tr>\n",
       "      <th>top</th>\n",
       "      <td>MCLIONS</td>\n",
       "      <td>1/21/11</td>\n",
       "      <td>NaN</td>\n",
       "      <td>28523</td>\n",
       "      <td>150.00</td>\n",
       "      <td>75.00</td>\n",
       "      <td>Sales - Snow - Spreading</td>\n",
       "      <td>SNOW/GEORGE</td>\n",
       "      <td>SNOW/GEORGE</td>\n",
       "    </tr>\n",
       "    <tr>\n",
       "      <th>freq</th>\n",
       "      <td>4196</td>\n",
       "      <td>246</td>\n",
       "      <td>NaN</td>\n",
       "      <td>3</td>\n",
       "      <td>82</td>\n",
       "      <td>814</td>\n",
       "      <td>6164</td>\n",
       "      <td>12082</td>\n",
       "      <td>12082</td>\n",
       "    </tr>\n",
       "    <tr>\n",
       "      <th>mean</th>\n",
       "      <td>NaN</td>\n",
       "      <td>NaN</td>\n",
       "      <td>30652.309901</td>\n",
       "      <td>NaN</td>\n",
       "      <td>NaN</td>\n",
       "      <td>NaN</td>\n",
       "      <td>NaN</td>\n",
       "      <td>NaN</td>\n",
       "      <td>NaN</td>\n",
       "    </tr>\n",
       "    <tr>\n",
       "      <th>std</th>\n",
       "      <td>NaN</td>\n",
       "      <td>NaN</td>\n",
       "      <td>272.295484</td>\n",
       "      <td>NaN</td>\n",
       "      <td>NaN</td>\n",
       "      <td>NaN</td>\n",
       "      <td>NaN</td>\n",
       "      <td>NaN</td>\n",
       "      <td>NaN</td>\n",
       "    </tr>\n",
       "    <tr>\n",
       "      <th>min</th>\n",
       "      <td>NaN</td>\n",
       "      <td>NaN</td>\n",
       "      <td>30020.000000</td>\n",
       "      <td>NaN</td>\n",
       "      <td>NaN</td>\n",
       "      <td>NaN</td>\n",
       "      <td>NaN</td>\n",
       "      <td>NaN</td>\n",
       "      <td>NaN</td>\n",
       "    </tr>\n",
       "    <tr>\n",
       "      <th>25%</th>\n",
       "      <td>NaN</td>\n",
       "      <td>NaN</td>\n",
       "      <td>30400.000000</td>\n",
       "      <td>NaN</td>\n",
       "      <td>NaN</td>\n",
       "      <td>NaN</td>\n",
       "      <td>NaN</td>\n",
       "      <td>NaN</td>\n",
       "      <td>NaN</td>\n",
       "    </tr>\n",
       "    <tr>\n",
       "      <th>50%</th>\n",
       "      <td>NaN</td>\n",
       "      <td>NaN</td>\n",
       "      <td>30810.000000</td>\n",
       "      <td>NaN</td>\n",
       "      <td>NaN</td>\n",
       "      <td>NaN</td>\n",
       "      <td>NaN</td>\n",
       "      <td>NaN</td>\n",
       "      <td>NaN</td>\n",
       "    </tr>\n",
       "    <tr>\n",
       "      <th>75%</th>\n",
       "      <td>NaN</td>\n",
       "      <td>NaN</td>\n",
       "      <td>30820.000000</td>\n",
       "      <td>NaN</td>\n",
       "      <td>NaN</td>\n",
       "      <td>NaN</td>\n",
       "      <td>NaN</td>\n",
       "      <td>NaN</td>\n",
       "      <td>NaN</td>\n",
       "    </tr>\n",
       "    <tr>\n",
       "      <th>max</th>\n",
       "      <td>NaN</td>\n",
       "      <td>NaN</td>\n",
       "      <td>30900.000000</td>\n",
       "      <td>NaN</td>\n",
       "      <td>NaN</td>\n",
       "      <td>NaN</td>\n",
       "      <td>NaN</td>\n",
       "      <td>NaN</td>\n",
       "      <td>NaN</td>\n",
       "    </tr>\n",
       "  </tbody>\n",
       "</table>\n",
       "</div>"
      ],
      "text/plain": [
       "       Customer ID     Date    Account ID Invoice/CM # Debit Amnt Credit Amnt  \\\n",
       "count        28564    28564  28564.000000        28565        817       28340   \n",
       "unique        2216     2603           NaN        20669        433        5791   \n",
       "top        MCLIONS  1/21/11           NaN        28523     150.00       75.00   \n",
       "freq          4196      246           NaN            3         82         814   \n",
       "mean           NaN      NaN  30652.309901          NaN        NaN         NaN   \n",
       "std            NaN      NaN    272.295484          NaN        NaN         NaN   \n",
       "min            NaN      NaN  30020.000000          NaN        NaN         NaN   \n",
       "25%            NaN      NaN  30400.000000          NaN        NaN         NaN   \n",
       "50%            NaN      NaN  30810.000000          NaN        NaN         NaN   \n",
       "75%            NaN      NaN  30820.000000          NaN        NaN         NaN   \n",
       "max            NaN      NaN  30900.000000          NaN        NaN         NaN   \n",
       "\n",
       "             Account Description Sales Rep ID Sales Rep Name  \n",
       "count                      28564        28470          28470  \n",
       "unique                        12           25             23  \n",
       "top     Sales - Snow - Spreading  SNOW/GEORGE    SNOW/GEORGE  \n",
       "freq                        6164        12082          12082  \n",
       "mean                         NaN          NaN            NaN  \n",
       "std                          NaN          NaN            NaN  \n",
       "min                          NaN          NaN            NaN  \n",
       "25%                          NaN          NaN            NaN  \n",
       "50%                          NaN          NaN            NaN  \n",
       "75%                          NaN          NaN            NaN  \n",
       "max                          NaN          NaN            NaN  "
      ]
     },
     "execution_count": 478,
     "metadata": {},
     "output_type": "execute_result"
    }
   ],
   "source": [
    "sales.describe(include='all')"
   ]
  },
  {
   "cell_type": "code",
   "execution_count": 479,
   "metadata": {},
   "outputs": [
    {
     "name": "stdout",
     "output_type": "stream",
     "text": [
      "(0, 9)\n"
     ]
    }
   ],
   "source": [
    "# Any duplicate rows in cust?\n",
    "duplicate_rows_df = cust[cust.duplicated()]\n",
    "print(duplicate_rows_df.shape)"
   ]
  },
  {
   "cell_type": "code",
   "execution_count": 480,
   "metadata": {},
   "outputs": [
    {
     "name": "stdout",
     "output_type": "stream",
     "text": [
      "(0, 9)\n"
     ]
    }
   ],
   "source": [
    "# Any duplicate cols in cust?\n",
    "dup_rows_df = sales[sales.duplicated()]\n",
    "print(dup_rows_df.shape)"
   ]
  },
  {
   "cell_type": "code",
   "execution_count": 481,
   "metadata": {},
   "outputs": [
    {
     "name": "stdout",
     "output_type": "stream",
     "text": [
      "False\n"
     ]
    }
   ],
   "source": [
    "# any duplicate customer ID's in cust?  \n",
    "boolean = cust.duplicated(subset=['Customer ID']).any()\n",
    "print(boolean) # True"
   ]
  },
  {
   "cell_type": "code",
   "execution_count": 482,
   "metadata": {},
   "outputs": [
    {
     "data": {
      "text/plain": [
       "Index(['Customer ID', 'Date', 'Account ID', 'Invoice/CM #', 'Debit Amnt',\n",
       "       'Credit Amnt', 'Account Description', 'Sales Rep ID', 'Sales Rep Name'],\n",
       "      dtype='object')"
      ]
     },
     "execution_count": 482,
     "metadata": {},
     "output_type": "execute_result"
    }
   ],
   "source": [
    "# look at columns to rename \n",
    "sales.columns"
   ]
  },
  {
   "cell_type": "code",
   "execution_count": 483,
   "metadata": {},
   "outputs": [
    {
     "data": {
      "text/plain": [
       "Index(['Customer ID', 'Cust Since', 'City', 'State', 'Zip', 'Active?',\n",
       "       'Sales Rep', 'Sales Acct', 'LEAD SOURCE'],\n",
       "      dtype='object')"
      ]
     },
     "execution_count": 483,
     "metadata": {},
     "output_type": "execute_result"
    }
   ],
   "source": [
    "cust.columns"
   ]
  },
  {
   "cell_type": "code",
   "execution_count": 484,
   "metadata": {},
   "outputs": [
    {
     "data": {
      "text/html": [
       "<div>\n",
       "<style scoped>\n",
       "    .dataframe tbody tr th:only-of-type {\n",
       "        vertical-align: middle;\n",
       "    }\n",
       "\n",
       "    .dataframe tbody tr th {\n",
       "        vertical-align: top;\n",
       "    }\n",
       "\n",
       "    .dataframe thead th {\n",
       "        text-align: right;\n",
       "    }\n",
       "</style>\n",
       "<table border=\"1\" class=\"dataframe\">\n",
       "  <thead>\n",
       "    <tr style=\"text-align: right;\">\n",
       "      <th></th>\n",
       "      <th>Customer ID</th>\n",
       "      <th>Cust Since</th>\n",
       "      <th>City</th>\n",
       "      <th>Zip</th>\n",
       "    </tr>\n",
       "  </thead>\n",
       "  <tbody>\n",
       "    <tr>\n",
       "      <th>0</th>\n",
       "      <td>103</td>\n",
       "      <td>7/21/08</td>\n",
       "      <td>Overland Park</td>\n",
       "      <td>66210</td>\n",
       "    </tr>\n",
       "    <tr>\n",
       "      <th>1</th>\n",
       "      <td>10975</td>\n",
       "      <td>7/21/08</td>\n",
       "      <td>Overland Park</td>\n",
       "      <td>66210</td>\n",
       "    </tr>\n",
       "    <tr>\n",
       "      <th>2</th>\n",
       "      <td>1509WALN</td>\n",
       "      <td>12/12/18</td>\n",
       "      <td>KANSAS CITY</td>\n",
       "      <td>64106</td>\n",
       "    </tr>\n",
       "    <tr>\n",
       "      <th>3</th>\n",
       "      <td>1617</td>\n",
       "      <td>7/15/08</td>\n",
       "      <td>NaN</td>\n",
       "      <td>NaN</td>\n",
       "    </tr>\n",
       "    <tr>\n",
       "      <th>4</th>\n",
       "      <td>1906WYAN</td>\n",
       "      <td>1/28/19</td>\n",
       "      <td>Kansas City</td>\n",
       "      <td>64108</td>\n",
       "    </tr>\n",
       "  </tbody>\n",
       "</table>\n",
       "</div>"
      ],
      "text/plain": [
       "  Customer ID Cust Since           City    Zip\n",
       "0         103    7/21/08  Overland Park  66210\n",
       "1       10975    7/21/08  Overland Park  66210\n",
       "2    1509WALN   12/12/18    KANSAS CITY  64106\n",
       "3        1617    7/15/08            NaN    NaN\n",
       "4    1906WYAN    1/28/19    Kansas City  64108"
      ]
     },
     "execution_count": 484,
     "metadata": {},
     "output_type": "execute_result"
    }
   ],
   "source": [
    "# drop columns from customer file not needed\n",
    "cust = cust.drop(['State','Active?','Sales Rep','Sales Acct', 'LEAD SOURCE'], axis=1)\n",
    "cust.head(5)"
   ]
  },
  {
   "cell_type": "code",
   "execution_count": 485,
   "metadata": {},
   "outputs": [
    {
     "data": {
      "text/html": [
       "<div>\n",
       "<style scoped>\n",
       "    .dataframe tbody tr th:only-of-type {\n",
       "        vertical-align: middle;\n",
       "    }\n",
       "\n",
       "    .dataframe tbody tr th {\n",
       "        vertical-align: top;\n",
       "    }\n",
       "\n",
       "    .dataframe thead th {\n",
       "        text-align: right;\n",
       "    }\n",
       "</style>\n",
       "<table border=\"1\" class=\"dataframe\">\n",
       "  <thead>\n",
       "    <tr style=\"text-align: right;\">\n",
       "      <th></th>\n",
       "      <th>Customer ID</th>\n",
       "      <th>Date</th>\n",
       "      <th>Account ID</th>\n",
       "      <th>Invoice/CM #</th>\n",
       "      <th>Debit Amnt</th>\n",
       "      <th>Credit Amnt</th>\n",
       "      <th>Account Description</th>\n",
       "      <th>Sales Rep ID</th>\n",
       "    </tr>\n",
       "  </thead>\n",
       "  <tbody>\n",
       "    <tr>\n",
       "      <th>0</th>\n",
       "      <td>NaN</td>\n",
       "      <td>NaN</td>\n",
       "      <td>NaN</td>\n",
       "      <td>Total</td>\n",
       "      <td></td>\n",
       "      <td></td>\n",
       "      <td>NaN</td>\n",
       "      <td>NaN</td>\n",
       "    </tr>\n",
       "    <tr>\n",
       "      <th>1</th>\n",
       "      <td>BTT</td>\n",
       "      <td>5/21/20</td>\n",
       "      <td>30020.0</td>\n",
       "      <td>37309</td>\n",
       "      <td>NaN</td>\n",
       "      <td>3,020.00</td>\n",
       "      <td>Sales - Turf Repair</td>\n",
       "      <td>JAMESV</td>\n",
       "    </tr>\n",
       "    <tr>\n",
       "      <th>2</th>\n",
       "      <td>BTT</td>\n",
       "      <td>6/5/20</td>\n",
       "      <td>30020.0</td>\n",
       "      <td>37368</td>\n",
       "      <td>NaN</td>\n",
       "      <td>716.00</td>\n",
       "      <td>Sales - Turf Repair</td>\n",
       "      <td>JAMESV</td>\n",
       "    </tr>\n",
       "    <tr>\n",
       "      <th>3</th>\n",
       "      <td>BTT</td>\n",
       "      <td>7/9/20</td>\n",
       "      <td>30020.0</td>\n",
       "      <td>37488</td>\n",
       "      <td>NaN</td>\n",
       "      <td>200.00</td>\n",
       "      <td>Sales - Turf Repair</td>\n",
       "      <td>JAMESV</td>\n",
       "    </tr>\n",
       "    <tr>\n",
       "      <th>4</th>\n",
       "      <td>BTT</td>\n",
       "      <td>7/9/20</td>\n",
       "      <td>30020.0</td>\n",
       "      <td>37489</td>\n",
       "      <td>NaN</td>\n",
       "      <td>200.00</td>\n",
       "      <td>Sales - Turf Repair</td>\n",
       "      <td>JAMESV</td>\n",
       "    </tr>\n",
       "  </tbody>\n",
       "</table>\n",
       "</div>"
      ],
      "text/plain": [
       "  Customer ID     Date  Account ID Invoice/CM # Debit Amnt Credit Amnt  \\\n",
       "0         NaN      NaN         NaN        Total                          \n",
       "1         BTT  5/21/20     30020.0        37309        NaN    3,020.00   \n",
       "2         BTT   6/5/20     30020.0        37368        NaN      716.00   \n",
       "3         BTT   7/9/20     30020.0        37488        NaN      200.00   \n",
       "4         BTT   7/9/20     30020.0        37489        NaN      200.00   \n",
       "\n",
       "   Account Description Sales Rep ID  \n",
       "0                  NaN          NaN  \n",
       "1  Sales - Turf Repair       JAMESV  \n",
       "2  Sales - Turf Repair       JAMESV  \n",
       "3  Sales - Turf Repair       JAMESV  \n",
       "4  Sales - Turf Repair       JAMESV  "
      ]
     },
     "execution_count": 485,
     "metadata": {},
     "output_type": "execute_result"
    }
   ],
   "source": [
    "# drop columns from sales file not needed\n",
    "sales = sales.drop(['Sales Rep Name'], axis=1)\n",
    "sales.head(5)\n"
   ]
  },
  {
   "cell_type": "code",
   "execution_count": 486,
   "metadata": {},
   "outputs": [
    {
     "name": "stdout",
     "output_type": "stream",
     "text": [
      "Customer ID                1\n",
      "Date                       1\n",
      "Account ID                 1\n",
      "Invoice/CM #               0\n",
      "Debit Amnt             27748\n",
      "Credit Amnt              225\n",
      "Account Description        1\n",
      "Sales Rep ID              95\n",
      "dtype: int64\n"
     ]
    }
   ],
   "source": [
    "print(sales.isnull().sum())"
   ]
  },
  {
   "cell_type": "code",
   "execution_count": 487,
   "metadata": {},
   "outputs": [],
   "source": [
    "# rename columns\n",
    "sales = sales.rename(columns={'Customer ID':'Cust_ID','Date':'Inv_Date','Account ID':'Acct_ID',\n",
    "                      'Invoice/CM #':'Inv_Num','Debit Amnt':'Debit_Amt', 'Credit Amnt':'Credit_Amt',\n",
    "                      'Account Description':'Acct_Desc','Sales Rep ID':'Sales_Rep_ID'\n",
    "                    })"
   ]
  },
  {
   "cell_type": "code",
   "execution_count": 488,
   "metadata": {},
   "outputs": [],
   "source": [
    "# rename columns for customer\n",
    "cust = cust.rename(columns={'Customer ID':'Cust_ID','Cust Since':'Cust_Since_Dt'\n",
    "                    })"
   ]
  },
  {
   "cell_type": "code",
   "execution_count": 489,
   "metadata": {},
   "outputs": [
    {
     "data": {
      "text/plain": [
       "Cust_ID          object\n",
       "Cust_Since_Dt    object\n",
       "City             object\n",
       "Zip              object\n",
       "dtype: object"
      ]
     },
     "execution_count": 489,
     "metadata": {},
     "output_type": "execute_result"
    }
   ],
   "source": [
    "# look at data types\n",
    "cust.dtypes"
   ]
  },
  {
   "cell_type": "code",
   "execution_count": 490,
   "metadata": {},
   "outputs": [
    {
     "data": {
      "text/html": [
       "<div>\n",
       "<style scoped>\n",
       "    .dataframe tbody tr th:only-of-type {\n",
       "        vertical-align: middle;\n",
       "    }\n",
       "\n",
       "    .dataframe tbody tr th {\n",
       "        vertical-align: top;\n",
       "    }\n",
       "\n",
       "    .dataframe thead th {\n",
       "        text-align: right;\n",
       "    }\n",
       "</style>\n",
       "<table border=\"1\" class=\"dataframe\">\n",
       "  <thead>\n",
       "    <tr style=\"text-align: right;\">\n",
       "      <th></th>\n",
       "      <th>Cust_ID</th>\n",
       "      <th>Inv_Date</th>\n",
       "      <th>Acct_ID</th>\n",
       "      <th>Inv_Num</th>\n",
       "      <th>Debit_Amt</th>\n",
       "      <th>Credit_Amt</th>\n",
       "      <th>Acct_Desc</th>\n",
       "      <th>Sales_Rep_ID</th>\n",
       "    </tr>\n",
       "  </thead>\n",
       "  <tbody>\n",
       "    <tr>\n",
       "      <th>0</th>\n",
       "      <td>NaN</td>\n",
       "      <td>NaT</td>\n",
       "      <td>NaN</td>\n",
       "      <td>Total</td>\n",
       "      <td></td>\n",
       "      <td></td>\n",
       "      <td>NaN</td>\n",
       "      <td>NaN</td>\n",
       "    </tr>\n",
       "    <tr>\n",
       "      <th>1</th>\n",
       "      <td>BTT</td>\n",
       "      <td>5/21/20</td>\n",
       "      <td>30020.0</td>\n",
       "      <td>37309</td>\n",
       "      <td>NaN</td>\n",
       "      <td>3,020.00</td>\n",
       "      <td>Sales - Turf Repair</td>\n",
       "      <td>JAMESV</td>\n",
       "    </tr>\n",
       "    <tr>\n",
       "      <th>2</th>\n",
       "      <td>BTT</td>\n",
       "      <td>6/5/20</td>\n",
       "      <td>30020.0</td>\n",
       "      <td>37368</td>\n",
       "      <td>NaN</td>\n",
       "      <td>716.00</td>\n",
       "      <td>Sales - Turf Repair</td>\n",
       "      <td>JAMESV</td>\n",
       "    </tr>\n",
       "    <tr>\n",
       "      <th>3</th>\n",
       "      <td>BTT</td>\n",
       "      <td>7/9/20</td>\n",
       "      <td>30020.0</td>\n",
       "      <td>37488</td>\n",
       "      <td>NaN</td>\n",
       "      <td>200.00</td>\n",
       "      <td>Sales - Turf Repair</td>\n",
       "      <td>JAMESV</td>\n",
       "    </tr>\n",
       "    <tr>\n",
       "      <th>4</th>\n",
       "      <td>BTT</td>\n",
       "      <td>7/9/20</td>\n",
       "      <td>30020.0</td>\n",
       "      <td>37489</td>\n",
       "      <td>NaN</td>\n",
       "      <td>200.00</td>\n",
       "      <td>Sales - Turf Repair</td>\n",
       "      <td>JAMESV</td>\n",
       "    </tr>\n",
       "  </tbody>\n",
       "</table>\n",
       "</div>"
      ],
      "text/plain": [
       "  Cust_ID Inv_Date  Acct_ID Inv_Num Debit_Amt Credit_Amt            Acct_Desc  \\\n",
       "0     NaN      NaT      NaN   Total                                       NaN   \n",
       "1     BTT  5/21/20  30020.0   37309       NaN   3,020.00  Sales - Turf Repair   \n",
       "2     BTT   6/5/20  30020.0   37368       NaN     716.00  Sales - Turf Repair   \n",
       "3     BTT   7/9/20  30020.0   37488       NaN     200.00  Sales - Turf Repair   \n",
       "4     BTT   7/9/20  30020.0   37489       NaN     200.00  Sales - Turf Repair   \n",
       "\n",
       "  Sales_Rep_ID  \n",
       "0          NaN  \n",
       "1       JAMESV  \n",
       "2       JAMESV  \n",
       "3       JAMESV  \n",
       "4       JAMESV  "
      ]
     },
     "execution_count": 490,
     "metadata": {},
     "output_type": "execute_result"
    }
   ],
   "source": [
    "mask = sales['Inv_Date'].isnull()\n",
    "sales.loc[mask, 'Inv_Date'] = pd.to_datetime(sales['Inv_Date'],format='%m/%d/%y', errors='coerce')\n",
    "\n",
    "sales.head(5)"
   ]
  },
  {
   "cell_type": "code",
   "execution_count": 491,
   "metadata": {},
   "outputs": [
    {
     "data": {
      "text/html": [
       "<div>\n",
       "<style scoped>\n",
       "    .dataframe tbody tr th:only-of-type {\n",
       "        vertical-align: middle;\n",
       "    }\n",
       "\n",
       "    .dataframe tbody tr th {\n",
       "        vertical-align: top;\n",
       "    }\n",
       "\n",
       "    .dataframe thead th {\n",
       "        text-align: right;\n",
       "    }\n",
       "</style>\n",
       "<table border=\"1\" class=\"dataframe\">\n",
       "  <thead>\n",
       "    <tr style=\"text-align: right;\">\n",
       "      <th></th>\n",
       "      <th>Cust_ID</th>\n",
       "      <th>Inv_Date</th>\n",
       "      <th>Acct_ID</th>\n",
       "      <th>Inv_Num</th>\n",
       "      <th>Debit_Amt</th>\n",
       "      <th>Credit_Amt</th>\n",
       "      <th>Acct_Desc</th>\n",
       "      <th>Sales_Rep_ID</th>\n",
       "    </tr>\n",
       "  </thead>\n",
       "  <tbody>\n",
       "    <tr>\n",
       "      <th>0</th>\n",
       "      <td>NaN</td>\n",
       "      <td>NaT</td>\n",
       "      <td>NaN</td>\n",
       "      <td>Total</td>\n",
       "      <td></td>\n",
       "      <td></td>\n",
       "      <td>NaN</td>\n",
       "      <td>NaN</td>\n",
       "    </tr>\n",
       "    <tr>\n",
       "      <th>1</th>\n",
       "      <td>BTT</td>\n",
       "      <td>5/21/20</td>\n",
       "      <td>30020.0</td>\n",
       "      <td>37309</td>\n",
       "      <td>NaN</td>\n",
       "      <td>3,020.00</td>\n",
       "      <td>Sales - Turf Repair</td>\n",
       "      <td>JAMESV</td>\n",
       "    </tr>\n",
       "    <tr>\n",
       "      <th>2</th>\n",
       "      <td>BTT</td>\n",
       "      <td>6/5/20</td>\n",
       "      <td>30020.0</td>\n",
       "      <td>37368</td>\n",
       "      <td>NaN</td>\n",
       "      <td>716.00</td>\n",
       "      <td>Sales - Turf Repair</td>\n",
       "      <td>JAMESV</td>\n",
       "    </tr>\n",
       "    <tr>\n",
       "      <th>3</th>\n",
       "      <td>BTT</td>\n",
       "      <td>7/9/20</td>\n",
       "      <td>30020.0</td>\n",
       "      <td>37488</td>\n",
       "      <td>NaN</td>\n",
       "      <td>200.00</td>\n",
       "      <td>Sales - Turf Repair</td>\n",
       "      <td>JAMESV</td>\n",
       "    </tr>\n",
       "    <tr>\n",
       "      <th>4</th>\n",
       "      <td>BTT</td>\n",
       "      <td>7/9/20</td>\n",
       "      <td>30020.0</td>\n",
       "      <td>37489</td>\n",
       "      <td>NaN</td>\n",
       "      <td>200.00</td>\n",
       "      <td>Sales - Turf Repair</td>\n",
       "      <td>JAMESV</td>\n",
       "    </tr>\n",
       "  </tbody>\n",
       "</table>\n",
       "</div>"
      ],
      "text/plain": [
       "  Cust_ID Inv_Date  Acct_ID Inv_Num Debit_Amt Credit_Amt            Acct_Desc  \\\n",
       "0     NaN      NaT      NaN   Total                                       NaN   \n",
       "1     BTT  5/21/20  30020.0   37309       NaN   3,020.00  Sales - Turf Repair   \n",
       "2     BTT   6/5/20  30020.0   37368       NaN     716.00  Sales - Turf Repair   \n",
       "3     BTT   7/9/20  30020.0   37488       NaN     200.00  Sales - Turf Repair   \n",
       "4     BTT   7/9/20  30020.0   37489       NaN     200.00  Sales - Turf Repair   \n",
       "\n",
       "  Sales_Rep_ID  \n",
       "0          NaN  \n",
       "1       JAMESV  \n",
       "2       JAMESV  \n",
       "3       JAMESV  \n",
       "4       JAMESV  "
      ]
     },
     "execution_count": 491,
     "metadata": {},
     "output_type": "execute_result"
    }
   ],
   "source": [
    "sales.head(5)"
   ]
  },
  {
   "cell_type": "code",
   "execution_count": 492,
   "metadata": {},
   "outputs": [
    {
     "data": {
      "text/html": [
       "<div>\n",
       "<style scoped>\n",
       "    .dataframe tbody tr th:only-of-type {\n",
       "        vertical-align: middle;\n",
       "    }\n",
       "\n",
       "    .dataframe tbody tr th {\n",
       "        vertical-align: top;\n",
       "    }\n",
       "\n",
       "    .dataframe thead th {\n",
       "        text-align: right;\n",
       "    }\n",
       "</style>\n",
       "<table border=\"1\" class=\"dataframe\">\n",
       "  <thead>\n",
       "    <tr style=\"text-align: right;\">\n",
       "      <th></th>\n",
       "      <th>Cust_ID</th>\n",
       "      <th>Cust_Since_Dt</th>\n",
       "      <th>City</th>\n",
       "      <th>Zip</th>\n",
       "    </tr>\n",
       "  </thead>\n",
       "  <tbody>\n",
       "    <tr>\n",
       "      <th>count</th>\n",
       "      <td>4039</td>\n",
       "      <td>4039</td>\n",
       "      <td>4018</td>\n",
       "      <td>4008</td>\n",
       "    </tr>\n",
       "    <tr>\n",
       "      <th>unique</th>\n",
       "      <td>4039</td>\n",
       "      <td>2012</td>\n",
       "      <td>135</td>\n",
       "      <td>222</td>\n",
       "    </tr>\n",
       "    <tr>\n",
       "      <th>top</th>\n",
       "      <td>MATTJ</td>\n",
       "      <td>11/9/16</td>\n",
       "      <td>OVERLAND PARK</td>\n",
       "      <td>66221</td>\n",
       "    </tr>\n",
       "    <tr>\n",
       "      <th>freq</th>\n",
       "      <td>1</td>\n",
       "      <td>64</td>\n",
       "      <td>1345</td>\n",
       "      <td>313</td>\n",
       "    </tr>\n",
       "  </tbody>\n",
       "</table>\n",
       "</div>"
      ],
      "text/plain": [
       "       Cust_ID Cust_Since_Dt           City    Zip\n",
       "count     4039          4039           4018   4008\n",
       "unique    4039          2012            135    222\n",
       "top      MATTJ       11/9/16  OVERLAND PARK  66221\n",
       "freq         1            64           1345    313"
      ]
     },
     "execution_count": 492,
     "metadata": {},
     "output_type": "execute_result"
    }
   ],
   "source": [
    "cust.describe()\n",
    "# Why are there 222 zip codes?  Because some are billing zip codes, not actual work zip codes.  \n",
    "#  - Will look for outliers when creating a map of work done in kansas city and not include zips outside KC"
   ]
  },
  {
   "cell_type": "code",
   "execution_count": 493,
   "metadata": {},
   "outputs": [
    {
     "data": {
      "text/html": [
       "<div>\n",
       "<style scoped>\n",
       "    .dataframe tbody tr th:only-of-type {\n",
       "        vertical-align: middle;\n",
       "    }\n",
       "\n",
       "    .dataframe tbody tr th {\n",
       "        vertical-align: top;\n",
       "    }\n",
       "\n",
       "    .dataframe thead th {\n",
       "        text-align: right;\n",
       "    }\n",
       "</style>\n",
       "<table border=\"1\" class=\"dataframe\">\n",
       "  <thead>\n",
       "    <tr style=\"text-align: right;\">\n",
       "      <th></th>\n",
       "      <th>Cust_ID</th>\n",
       "      <th>Inv_Date</th>\n",
       "      <th>Acct_ID</th>\n",
       "      <th>Inv_Num</th>\n",
       "      <th>Debit_Amt</th>\n",
       "      <th>Credit_Amt</th>\n",
       "      <th>Acct_Desc</th>\n",
       "      <th>Sales_Rep_ID</th>\n",
       "    </tr>\n",
       "  </thead>\n",
       "  <tbody>\n",
       "    <tr>\n",
       "      <th>count</th>\n",
       "      <td>28564</td>\n",
       "      <td>28564</td>\n",
       "      <td>28564.000000</td>\n",
       "      <td>28565</td>\n",
       "      <td>817</td>\n",
       "      <td>28340</td>\n",
       "      <td>28564</td>\n",
       "      <td>28470</td>\n",
       "    </tr>\n",
       "    <tr>\n",
       "      <th>unique</th>\n",
       "      <td>2216</td>\n",
       "      <td>2603</td>\n",
       "      <td>NaN</td>\n",
       "      <td>20669</td>\n",
       "      <td>433</td>\n",
       "      <td>5791</td>\n",
       "      <td>12</td>\n",
       "      <td>25</td>\n",
       "    </tr>\n",
       "    <tr>\n",
       "      <th>top</th>\n",
       "      <td>MCLIONS</td>\n",
       "      <td>1/21/11</td>\n",
       "      <td>NaN</td>\n",
       "      <td>28523</td>\n",
       "      <td>150.00</td>\n",
       "      <td>75.00</td>\n",
       "      <td>Sales - Snow - Spreading</td>\n",
       "      <td>SNOW/GEORGE</td>\n",
       "    </tr>\n",
       "    <tr>\n",
       "      <th>freq</th>\n",
       "      <td>4196</td>\n",
       "      <td>246</td>\n",
       "      <td>NaN</td>\n",
       "      <td>3</td>\n",
       "      <td>82</td>\n",
       "      <td>814</td>\n",
       "      <td>6164</td>\n",
       "      <td>12082</td>\n",
       "    </tr>\n",
       "    <tr>\n",
       "      <th>mean</th>\n",
       "      <td>NaN</td>\n",
       "      <td>NaN</td>\n",
       "      <td>30652.309901</td>\n",
       "      <td>NaN</td>\n",
       "      <td>NaN</td>\n",
       "      <td>NaN</td>\n",
       "      <td>NaN</td>\n",
       "      <td>NaN</td>\n",
       "    </tr>\n",
       "    <tr>\n",
       "      <th>std</th>\n",
       "      <td>NaN</td>\n",
       "      <td>NaN</td>\n",
       "      <td>272.295484</td>\n",
       "      <td>NaN</td>\n",
       "      <td>NaN</td>\n",
       "      <td>NaN</td>\n",
       "      <td>NaN</td>\n",
       "      <td>NaN</td>\n",
       "    </tr>\n",
       "    <tr>\n",
       "      <th>min</th>\n",
       "      <td>NaN</td>\n",
       "      <td>NaN</td>\n",
       "      <td>30020.000000</td>\n",
       "      <td>NaN</td>\n",
       "      <td>NaN</td>\n",
       "      <td>NaN</td>\n",
       "      <td>NaN</td>\n",
       "      <td>NaN</td>\n",
       "    </tr>\n",
       "    <tr>\n",
       "      <th>25%</th>\n",
       "      <td>NaN</td>\n",
       "      <td>NaN</td>\n",
       "      <td>30400.000000</td>\n",
       "      <td>NaN</td>\n",
       "      <td>NaN</td>\n",
       "      <td>NaN</td>\n",
       "      <td>NaN</td>\n",
       "      <td>NaN</td>\n",
       "    </tr>\n",
       "    <tr>\n",
       "      <th>50%</th>\n",
       "      <td>NaN</td>\n",
       "      <td>NaN</td>\n",
       "      <td>30810.000000</td>\n",
       "      <td>NaN</td>\n",
       "      <td>NaN</td>\n",
       "      <td>NaN</td>\n",
       "      <td>NaN</td>\n",
       "      <td>NaN</td>\n",
       "    </tr>\n",
       "    <tr>\n",
       "      <th>75%</th>\n",
       "      <td>NaN</td>\n",
       "      <td>NaN</td>\n",
       "      <td>30820.000000</td>\n",
       "      <td>NaN</td>\n",
       "      <td>NaN</td>\n",
       "      <td>NaN</td>\n",
       "      <td>NaN</td>\n",
       "      <td>NaN</td>\n",
       "    </tr>\n",
       "    <tr>\n",
       "      <th>max</th>\n",
       "      <td>NaN</td>\n",
       "      <td>NaN</td>\n",
       "      <td>30900.000000</td>\n",
       "      <td>NaN</td>\n",
       "      <td>NaN</td>\n",
       "      <td>NaN</td>\n",
       "      <td>NaN</td>\n",
       "      <td>NaN</td>\n",
       "    </tr>\n",
       "  </tbody>\n",
       "</table>\n",
       "</div>"
      ],
      "text/plain": [
       "        Cust_ID Inv_Date       Acct_ID Inv_Num Debit_Amt Credit_Amt  \\\n",
       "count     28564    28564  28564.000000   28565       817      28340   \n",
       "unique     2216     2603           NaN   20669       433       5791   \n",
       "top     MCLIONS  1/21/11           NaN   28523    150.00      75.00   \n",
       "freq       4196      246           NaN       3        82        814   \n",
       "mean        NaN      NaN  30652.309901     NaN       NaN        NaN   \n",
       "std         NaN      NaN    272.295484     NaN       NaN        NaN   \n",
       "min         NaN      NaN  30020.000000     NaN       NaN        NaN   \n",
       "25%         NaN      NaN  30400.000000     NaN       NaN        NaN   \n",
       "50%         NaN      NaN  30810.000000     NaN       NaN        NaN   \n",
       "75%         NaN      NaN  30820.000000     NaN       NaN        NaN   \n",
       "max         NaN      NaN  30900.000000     NaN       NaN        NaN   \n",
       "\n",
       "                       Acct_Desc Sales_Rep_ID  \n",
       "count                      28564        28470  \n",
       "unique                        12           25  \n",
       "top     Sales - Snow - Spreading  SNOW/GEORGE  \n",
       "freq                        6164        12082  \n",
       "mean                         NaN          NaN  \n",
       "std                          NaN          NaN  \n",
       "min                          NaN          NaN  \n",
       "25%                          NaN          NaN  \n",
       "50%                          NaN          NaN  \n",
       "75%                          NaN          NaN  \n",
       "max                          NaN          NaN  "
      ]
     },
     "execution_count": 493,
     "metadata": {},
     "output_type": "execute_result"
    }
   ],
   "source": [
    "sales.describe(include = 'all')"
   ]
  },
  {
   "cell_type": "code",
   "execution_count": 494,
   "metadata": {},
   "outputs": [
    {
     "name": "stdout",
     "output_type": "stream",
     "text": [
      "<class 'pandas.core.frame.DataFrame'>\n",
      "RangeIndex: 28565 entries, 0 to 28564\n",
      "Data columns (total 8 columns):\n",
      " #   Column        Non-Null Count  Dtype  \n",
      "---  ------        --------------  -----  \n",
      " 0   Cust_ID       28564 non-null  object \n",
      " 1   Inv_Date      28564 non-null  object \n",
      " 2   Acct_ID       28564 non-null  float64\n",
      " 3   Inv_Num       28565 non-null  object \n",
      " 4   Debit_Amt     817 non-null    object \n",
      " 5   Credit_Amt    28340 non-null  object \n",
      " 6   Acct_Desc     28564 non-null  object \n",
      " 7   Sales_Rep_ID  28470 non-null  object \n",
      "dtypes: float64(1), object(7)\n",
      "memory usage: 1.7+ MB\n",
      "Cust_ID             1\n",
      "Inv_Date            1\n",
      "Acct_ID             1\n",
      "Inv_Num             0\n",
      "Debit_Amt       27748\n",
      "Credit_Amt        225\n",
      "Acct_Desc           1\n",
      "Sales_Rep_ID       95\n",
      "dtype: int64\n"
     ]
    }
   ],
   "source": [
    "# look at data types and how many nulls for each column\n",
    "sales.info()\n",
    "print(sales.isnull().sum())"
   ]
  },
  {
   "cell_type": "code",
   "execution_count": 475,
   "metadata": {},
   "outputs": [
    {
     "ename": "KeyError",
     "evalue": "'Acct_ID'",
     "output_type": "error",
     "traceback": [
      "\u001b[0;31m---------------------------------------------------------------------------\u001b[0m",
      "\u001b[0;31mKeyError\u001b[0m                                  Traceback (most recent call last)",
      "\u001b[0;32m~/opt/anaconda3/lib/python3.8/site-packages/pandas/core/indexes/base.py\u001b[0m in \u001b[0;36mget_loc\u001b[0;34m(self, key, method, tolerance)\u001b[0m\n\u001b[1;32m   3079\u001b[0m             \u001b[0;32mtry\u001b[0m\u001b[0;34m:\u001b[0m\u001b[0;34m\u001b[0m\u001b[0;34m\u001b[0m\u001b[0m\n\u001b[0;32m-> 3080\u001b[0;31m                 \u001b[0;32mreturn\u001b[0m \u001b[0mself\u001b[0m\u001b[0;34m.\u001b[0m\u001b[0m_engine\u001b[0m\u001b[0;34m.\u001b[0m\u001b[0mget_loc\u001b[0m\u001b[0;34m(\u001b[0m\u001b[0mcasted_key\u001b[0m\u001b[0;34m)\u001b[0m\u001b[0;34m\u001b[0m\u001b[0;34m\u001b[0m\u001b[0m\n\u001b[0m\u001b[1;32m   3081\u001b[0m             \u001b[0;32mexcept\u001b[0m \u001b[0mKeyError\u001b[0m \u001b[0;32mas\u001b[0m \u001b[0merr\u001b[0m\u001b[0;34m:\u001b[0m\u001b[0;34m\u001b[0m\u001b[0;34m\u001b[0m\u001b[0m\n",
      "\u001b[0;32mpandas/_libs/index.pyx\u001b[0m in \u001b[0;36mpandas._libs.index.IndexEngine.get_loc\u001b[0;34m()\u001b[0m\n",
      "\u001b[0;32mpandas/_libs/index.pyx\u001b[0m in \u001b[0;36mpandas._libs.index.IndexEngine.get_loc\u001b[0;34m()\u001b[0m\n",
      "\u001b[0;32mpandas/_libs/hashtable_class_helper.pxi\u001b[0m in \u001b[0;36mpandas._libs.hashtable.PyObjectHashTable.get_item\u001b[0;34m()\u001b[0m\n",
      "\u001b[0;32mpandas/_libs/hashtable_class_helper.pxi\u001b[0m in \u001b[0;36mpandas._libs.hashtable.PyObjectHashTable.get_item\u001b[0;34m()\u001b[0m\n",
      "\u001b[0;31mKeyError\u001b[0m: 'Acct_ID'",
      "\nThe above exception was the direct cause of the following exception:\n",
      "\u001b[0;31mKeyError\u001b[0m                                  Traceback (most recent call last)",
      "\u001b[0;32m<ipython-input-475-5437942503cf>\u001b[0m in \u001b[0;36m<module>\u001b[0;34m\u001b[0m\n\u001b[0;32m----> 1\u001b[0;31m \u001b[0msales\u001b[0m\u001b[0;34m[\u001b[0m\u001b[0;34m'Acct_ID'\u001b[0m\u001b[0;34m]\u001b[0m \u001b[0;34m=\u001b[0m \u001b[0msales\u001b[0m\u001b[0;34m[\u001b[0m\u001b[0;34m'Acct_ID'\u001b[0m\u001b[0;34m]\u001b[0m\u001b[0;34m.\u001b[0m\u001b[0mastype\u001b[0m\u001b[0;34m(\u001b[0m\u001b[0mstr\u001b[0m\u001b[0;34m)\u001b[0m\u001b[0;34m\u001b[0m\u001b[0;34m\u001b[0m\u001b[0m\n\u001b[0m",
      "\u001b[0;32m~/opt/anaconda3/lib/python3.8/site-packages/pandas/core/frame.py\u001b[0m in \u001b[0;36m__getitem__\u001b[0;34m(self, key)\u001b[0m\n\u001b[1;32m   3022\u001b[0m             \u001b[0;32mif\u001b[0m \u001b[0mself\u001b[0m\u001b[0;34m.\u001b[0m\u001b[0mcolumns\u001b[0m\u001b[0;34m.\u001b[0m\u001b[0mnlevels\u001b[0m \u001b[0;34m>\u001b[0m \u001b[0;36m1\u001b[0m\u001b[0;34m:\u001b[0m\u001b[0;34m\u001b[0m\u001b[0;34m\u001b[0m\u001b[0m\n\u001b[1;32m   3023\u001b[0m                 \u001b[0;32mreturn\u001b[0m \u001b[0mself\u001b[0m\u001b[0;34m.\u001b[0m\u001b[0m_getitem_multilevel\u001b[0m\u001b[0;34m(\u001b[0m\u001b[0mkey\u001b[0m\u001b[0;34m)\u001b[0m\u001b[0;34m\u001b[0m\u001b[0;34m\u001b[0m\u001b[0m\n\u001b[0;32m-> 3024\u001b[0;31m             \u001b[0mindexer\u001b[0m \u001b[0;34m=\u001b[0m \u001b[0mself\u001b[0m\u001b[0;34m.\u001b[0m\u001b[0mcolumns\u001b[0m\u001b[0;34m.\u001b[0m\u001b[0mget_loc\u001b[0m\u001b[0;34m(\u001b[0m\u001b[0mkey\u001b[0m\u001b[0;34m)\u001b[0m\u001b[0;34m\u001b[0m\u001b[0;34m\u001b[0m\u001b[0m\n\u001b[0m\u001b[1;32m   3025\u001b[0m             \u001b[0;32mif\u001b[0m \u001b[0mis_integer\u001b[0m\u001b[0;34m(\u001b[0m\u001b[0mindexer\u001b[0m\u001b[0;34m)\u001b[0m\u001b[0;34m:\u001b[0m\u001b[0;34m\u001b[0m\u001b[0;34m\u001b[0m\u001b[0m\n\u001b[1;32m   3026\u001b[0m                 \u001b[0mindexer\u001b[0m \u001b[0;34m=\u001b[0m \u001b[0;34m[\u001b[0m\u001b[0mindexer\u001b[0m\u001b[0;34m]\u001b[0m\u001b[0;34m\u001b[0m\u001b[0;34m\u001b[0m\u001b[0m\n",
      "\u001b[0;32m~/opt/anaconda3/lib/python3.8/site-packages/pandas/core/indexes/base.py\u001b[0m in \u001b[0;36mget_loc\u001b[0;34m(self, key, method, tolerance)\u001b[0m\n\u001b[1;32m   3080\u001b[0m                 \u001b[0;32mreturn\u001b[0m \u001b[0mself\u001b[0m\u001b[0;34m.\u001b[0m\u001b[0m_engine\u001b[0m\u001b[0;34m.\u001b[0m\u001b[0mget_loc\u001b[0m\u001b[0;34m(\u001b[0m\u001b[0mcasted_key\u001b[0m\u001b[0;34m)\u001b[0m\u001b[0;34m\u001b[0m\u001b[0;34m\u001b[0m\u001b[0m\n\u001b[1;32m   3081\u001b[0m             \u001b[0;32mexcept\u001b[0m \u001b[0mKeyError\u001b[0m \u001b[0;32mas\u001b[0m \u001b[0merr\u001b[0m\u001b[0;34m:\u001b[0m\u001b[0;34m\u001b[0m\u001b[0;34m\u001b[0m\u001b[0m\n\u001b[0;32m-> 3082\u001b[0;31m                 \u001b[0;32mraise\u001b[0m \u001b[0mKeyError\u001b[0m\u001b[0;34m(\u001b[0m\u001b[0mkey\u001b[0m\u001b[0;34m)\u001b[0m \u001b[0;32mfrom\u001b[0m \u001b[0merr\u001b[0m\u001b[0;34m\u001b[0m\u001b[0;34m\u001b[0m\u001b[0m\n\u001b[0m\u001b[1;32m   3083\u001b[0m \u001b[0;34m\u001b[0m\u001b[0m\n\u001b[1;32m   3084\u001b[0m         \u001b[0;32mif\u001b[0m \u001b[0mtolerance\u001b[0m \u001b[0;32mis\u001b[0m \u001b[0;32mnot\u001b[0m \u001b[0;32mNone\u001b[0m\u001b[0;34m:\u001b[0m\u001b[0;34m\u001b[0m\u001b[0;34m\u001b[0m\u001b[0m\n",
      "\u001b[0;31mKeyError\u001b[0m: 'Acct_ID'"
     ]
    }
   ],
   "source": [
    "sales['Acct_ID'] = sales['Acct_ID'].astype(str)"
   ]
  },
  {
   "cell_type": "code",
   "execution_count": 495,
   "metadata": {},
   "outputs": [
    {
     "name": "stdout",
     "output_type": "stream",
     "text": [
      "   Cust_ID  Inv_Date  Acct_ID Inv_Num  Debit_Amt  Credit_Amt  \\\n",
      "0        0         0      0.0   Total        0.0         NaN   \n",
      "1      BTT   5/21/20  30020.0   37309        0.0         NaN   \n",
      "2      BTT    6/5/20  30020.0   37368        0.0      716.00   \n",
      "3      BTT    7/9/20  30020.0   37488        0.0      200.00   \n",
      "4      BTT    7/9/20  30020.0   37489        0.0      200.00   \n",
      "5      BTT   8/28/20  30020.0   37631        0.0         NaN   \n",
      "6      BTT   9/22/20  30020.0   37660        0.0      304.00   \n",
      "7      BTT   9/22/20  30020.0   37661        0.0      240.00   \n",
      "8      BTT   9/22/20  30020.0   37662        0.0      260.00   \n",
      "9      BTT   9/30/20  30020.0   37709        0.0      606.00   \n",
      "10     BTT  10/19/20  30020.0   37735        0.0      324.00   \n",
      "11     BTT  11/23/20  30020.0   37866        0.0      200.00   \n",
      "12     BTT  10/22/21  30020.0   39062        0.0      348.00   \n",
      "13     BTT  10/28/21  30020.0   39072        0.0      270.00   \n",
      "14     BTT  11/19/21  30020.0   39155        0.0      232.00   \n",
      "15     BTT  12/13/21  30020.0   39215        0.0      286.00   \n",
      "16   HAMML   6/29/20  30020.0   37446        0.0      587.35   \n",
      "17   KINGE  11/12/21  30020.0   39137        0.0      100.00   \n",
      "18   LANTR   5/11/20  30020.0   37267        0.0      400.00   \n",
      "19   LUCKE  11/23/20  30020.0   37865        0.0      100.00   \n",
      "20   MIESS  11/19/21  30020.0   39154        0.0      120.00   \n",
      "21  SMITJO  11/10/21  30020.0   39127        0.0         NaN   \n",
      "22   STREM  10/15/20  30020.0   37733        0.0      621.00   \n",
      "23  UNDERM  12/18/20  30020.0   37958        0.0      300.00   \n",
      "24  WATERO    4/1/20  30020.0   37144        0.0         NaN   \n",
      "25  WATERO    4/1/20  30020.0   37147        0.0         NaN   \n",
      "26  WATERO    4/2/20  30020.0   37148        0.0         NaN   \n",
      "27  WATERO    4/3/20  30020.0   37155        0.0         NaN   \n",
      "28  WATERO   4/10/20  30020.0   37172        0.0         NaN   \n",
      "29  WATERO   4/21/20  30020.0   37194        0.0         NaN   \n",
      "30  WATERO   4/22/20  30020.0   37198        0.0         NaN   \n",
      "31  WATERO   4/22/20  30020.0   37199        0.0         NaN   \n",
      "32  WATERO   4/23/20  30020.0   37205        0.0         NaN   \n",
      "33  WATERO   4/24/20  30020.0   37206        0.0         NaN   \n",
      "34  WATERO   4/28/20  30020.0   37211        0.0         NaN   \n",
      "35  WATERO   4/30/20  30020.0   37245        0.0         NaN   \n",
      "36  WATERO   4/30/20  30020.0   37246        0.0         NaN   \n",
      "37  WATERO    5/4/20  30020.0   37258        0.0         NaN   \n",
      "38  WATERO    5/7/20  30020.0   37261        0.0         NaN   \n",
      "39  WATERO    5/8/20  30020.0   37264        0.0         NaN   \n",
      "40  WATERO   5/11/20  30020.0   37268        0.0         NaN   \n",
      "41  WATERO   5/13/20  30020.0   37273        0.0      395.52   \n",
      "42  WATERO   5/13/20  30020.0   37274        0.0         NaN   \n",
      "43  WATERO   5/14/20  30020.0   37284        0.0         NaN   \n",
      "44  WATERO   5/15/20  30020.0   37289        0.0         NaN   \n",
      "45  WATERO   5/19/20  30020.0   37303        0.0         NaN   \n",
      "46  WATERO   5/20/20  30020.0   37304        0.0         NaN   \n",
      "47  WATERO   5/22/20  30020.0   37314        0.0         NaN   \n",
      "48  WATERO   5/28/20  30020.0   37318        0.0         NaN   \n",
      "49  WATERO    6/2/20  30020.0   37360        0.0         NaN   \n",
      "\n",
      "              Acct_Desc Sales_Rep_ID  \n",
      "0                     0            0  \n",
      "1   Sales - Turf Repair       JAMESV  \n",
      "2   Sales - Turf Repair       JAMESV  \n",
      "3   Sales - Turf Repair       JAMESV  \n",
      "4   Sales - Turf Repair       JAMESV  \n",
      "5   Sales - Turf Repair       JAMESV  \n",
      "6   Sales - Turf Repair       JAMESV  \n",
      "7   Sales - Turf Repair       JAMESV  \n",
      "8   Sales - Turf Repair       JAMESV  \n",
      "9   Sales - Turf Repair       JAMESV  \n",
      "10  Sales - Turf Repair       JAMESV  \n",
      "11  Sales - Turf Repair       JAMESV  \n",
      "12  Sales - Turf Repair       JAMESV  \n",
      "13  Sales - Turf Repair       JAMESV  \n",
      "14  Sales - Turf Repair       JAMESV  \n",
      "15  Sales - Turf Repair       JAMESV  \n",
      "16  Sales - Turf Repair       JAMESV  \n",
      "17  Sales - Turf Repair       JAMESV  \n",
      "18  Sales - Turf Repair            0  \n",
      "19  Sales - Turf Repair       JAMESV  \n",
      "20  Sales - Turf Repair       JAMESV  \n",
      "21  Sales - Turf Repair       JAMESV  \n",
      "22  Sales - Turf Repair       JAMESV  \n",
      "23  Sales - Turf Repair       JAMESV  \n",
      "24  Sales - Turf Repair       JAMESV  \n",
      "25  Sales - Turf Repair       JAMESV  \n",
      "26  Sales - Turf Repair       JAMESV  \n",
      "27  Sales - Turf Repair       JAMESV  \n",
      "28  Sales - Turf Repair       JAMESV  \n",
      "29  Sales - Turf Repair       JAMESV  \n",
      "30  Sales - Turf Repair       JAMESV  \n",
      "31  Sales - Turf Repair       JAMESV  \n",
      "32  Sales - Turf Repair       JAMESV  \n",
      "33  Sales - Turf Repair       JAMESV  \n",
      "34  Sales - Turf Repair       JAMESV  \n",
      "35  Sales - Turf Repair       JAMESV  \n",
      "36  Sales - Turf Repair       JAMESV  \n",
      "37  Sales - Turf Repair       JAMESV  \n",
      "38  Sales - Turf Repair       JAMESV  \n",
      "39  Sales - Turf Repair       JAMESV  \n",
      "40  Sales - Turf Repair       JAMESV  \n",
      "41  Sales - Turf Repair       JAMESV  \n",
      "42  Sales - Turf Repair       JAMESV  \n",
      "43  Sales - Turf Repair       JAMESV  \n",
      "44  Sales - Turf Repair       JAMESV  \n",
      "45  Sales - Turf Repair       JAMESV  \n",
      "46  Sales - Turf Repair       JAMESV  \n",
      "47  Sales - Turf Repair       JAMESV  \n",
      "48  Sales - Turf Repair       JAMESV  \n",
      "49  Sales - Turf Repair       JAMESV  \n",
      "Cust_ID          object\n",
      "Inv_Date         object\n",
      "Acct_ID         float64\n",
      "Inv_Num          object\n",
      "Debit_Amt       float64\n",
      "Credit_Amt      float64\n",
      "Acct_Desc        object\n",
      "Sales_Rep_ID     object\n",
      "dtype: object\n"
     ]
    }
   ],
   "source": [
    "# I could not use astype to change the debit & credit to float bc of the nulls.\n",
    "# Used to_numeric to convert the debit and credit amounts to float\n",
    "\n",
    "\n",
    "\n",
    "sales['Debit_Amt'] = pd.to_numeric(sales['Debit_Amt'], errors='coerce')\n",
    "sales = sales.replace(np.nan, 0, regex=True)\n",
    "sales['Credit_Amt'] = pd.to_numeric(sales['Credit_Amt'], errors='ignore')\n",
    "\n",
    "\n",
    "print(sales.head(50))\n",
    "print(sales.dtypes)"
   ]
  },
  {
   "cell_type": "code",
   "execution_count": 436,
   "metadata": {},
   "outputs": [
    {
     "name": "stdout",
     "output_type": "stream",
     "text": [
      "<class 'pandas.core.frame.DataFrame'>\n",
      "RangeIndex: 28565 entries, 0 to 28564\n",
      "Data columns (total 8 columns):\n",
      " #   Column        Non-Null Count  Dtype  \n",
      "---  ------        --------------  -----  \n",
      " 0   Cust_ID       28565 non-null  object \n",
      " 1   Inv_Date      28565 non-null  object \n",
      " 2   Acct_ID       28565 non-null  object \n",
      " 3   Inv_Num       28565 non-null  object \n",
      " 4   Debit_Amt     28565 non-null  float64\n",
      " 5   Credit_Amt    22389 non-null  float64\n",
      " 6   Acct_Desc     28565 non-null  object \n",
      " 7   Sales_Rep_ID  28565 non-null  object \n",
      "dtypes: float64(2), object(6)\n",
      "memory usage: 1.7+ MB\n",
      "Cust_ID            0\n",
      "Inv_Date           0\n",
      "Acct_ID            0\n",
      "Inv_Num            0\n",
      "Debit_Amt          0\n",
      "Credit_Amt      6176\n",
      "Acct_Desc          0\n",
      "Sales_Rep_ID       0\n",
      "dtype: int64\n"
     ]
    }
   ],
   "source": [
    "# I found that 'is_numeric' converted some of the non-null to null values. \n",
    "# I will need to look further into why this is happening\n",
    "\n",
    "sales.info()\n",
    "print(sales.isnull().sum())"
   ]
  },
  {
   "cell_type": "markdown",
   "metadata": {
    "azdata_cell_guid": "d45060f3-97bc-484a-9ef4-66145bbe9427"
   },
   "source": [
    "## Visualize\n",
    "\n",
    "Create any visualizations for your EDA here. Make note in the form of code comments of what your thought process is for your visualizations."
   ]
  },
  {
   "cell_type": "code",
   "execution_count": 438,
   "metadata": {},
   "outputs": [
    {
     "name": "stderr",
     "output_type": "stream",
     "text": [
      "/Users/nancybunker/opt/anaconda3/lib/python3.8/site-packages/seaborn/_decorators.py:36: FutureWarning: Pass the following variable as a keyword arg: x. From version 0.12, the only valid positional argument will be `data`, and passing other arguments without an explicit keyword will result in an error or misinterpretation.\n",
      "  warnings.warn(\n"
     ]
    },
    {
     "data": {
      "text/plain": [
       "<AxesSubplot:xlabel='Credit_Amt'>"
      ]
     },
     "execution_count": 438,
     "metadata": {},
     "output_type": "execute_result"
    },
    {
     "data": {
      "image/png": "[encoded data removed]",
      "text/plain": [
       "<Figure size 432x288 with 1 Axes>"
      ]
     },
     "metadata": {},
     "output_type": "display_data"
    }
   ],
   "source": [
    "# Average sales\n",
    "sns.boxplot(sales['Credit_Amt'])"
   ]
  },
  {
   "cell_type": "code",
   "execution_count": 442,
   "metadata": {},
   "outputs": [
    {
     "name": "stdout",
     "output_type": "stream",
     "text": [
      "  Cust_ID Inv_Date  Acct_ID Inv_Num  Debit_Amt  Credit_Amt  \\\n",
      "0       0        0      nan   Total        0.0         NaN   \n",
      "1     BTT  5/21/20  30020.0   37309        0.0         NaN   \n",
      "2     BTT   6/5/20  30020.0   37368        0.0       716.0   \n",
      "3     BTT   7/9/20  30020.0   37488        0.0       200.0   \n",
      "4     BTT   7/9/20  30020.0   37489        0.0       200.0   \n",
      "\n",
      "             Acct_Desc Sales_Rep_ID  year  \n",
      "0                    0            0  1970  \n",
      "1  Sales - Turf Repair       JAMESV  2020  \n",
      "2  Sales - Turf Repair       JAMESV  2020  \n",
      "3  Sales - Turf Repair       JAMESV  2020  \n",
      "4  Sales - Turf Repair       JAMESV  2020  \n"
     ]
    }
   ],
   "source": [
    "#sales['Inv_Date'] = pd.to_datetime(sales['Inv_Date'], format='%d/%m/%Y', errors='coerce')\n",
    "sales['year'] = pd.DatetimeIndex(sales['Inv_Date']).year\n",
    "                                             \n",
    "print(sales.head(5))"
   ]
  },
  {
   "cell_type": "code",
   "execution_count": 451,
   "metadata": {},
   "outputs": [
    {
     "name": "stdout",
     "output_type": "stream",
     "text": [
      "2010    3885\n",
      "2011    3504\n",
      "2019    3283\n",
      "2013    2444\n",
      "2018    2355\n",
      "2020    2225\n",
      "2014    2202\n",
      "2015    2184\n",
      "2021    1754\n",
      "2016    1678\n",
      "2017    1578\n",
      "2012    1472\n",
      "1970       1\n",
      "Name: year, dtype: int64\n"
     ]
    }
   ],
   "source": [
    "sales_tot = sales['year'].value_counts()\n",
    "print(sales_tot)"
   ]
  },
  {
   "cell_type": "code",
   "execution_count": 458,
   "metadata": {},
   "outputs": [
    {
     "data": {
      "text/plain": [
       "<AxesSubplot:title={'center':'Total Sales per Year'}, xlabel='year', ylabel='Total Sales'>"
      ]
     },
     "execution_count": 458,
     "metadata": {},
     "output_type": "execute_result"
    },
    {
     "data": {
      "image/png": "[encoded data removed]",
      "text/plain": [
       "<Figure size 720x360 with 1 Axes>"
      ]
     },
     "metadata": {},
     "output_type": "display_data"
    }
   ],
   "source": [
    "#Total sales per year\n",
    "fig=plt.figure(figsize= (10,5))\n",
    "plt.title('Total Sales per Year',color = 'black')\n",
    "plt.ylabel('Total Sales',color = 'black')\n",
    "\n",
    "sales['Credit_Amt'].groupby(sales['year']).sum().plot(kind='bar',color='blue')"
   ]
  },
  {
   "cell_type": "code",
   "execution_count": 459,
   "metadata": {},
   "outputs": [
    {
     "data": {
      "text/plain": [
       "<AxesSubplot:title={'center':'Total Sales per Profit Center'}, xlabel='Acct_ID', ylabel='Total Sales'>"
      ]
     },
     "execution_count": 459,
     "metadata": {},
     "output_type": "execute_result"
    },
    {
     "data": {
      "image/png": "[encoded data removed]",
      "text/plain": [
       "<Figure size 720x360 with 1 Axes>"
      ]
     },
     "metadata": {},
     "output_type": "display_data"
    }
   ],
   "source": [
    "#Total sales per revenue stream\n",
    "fig=plt.figure(figsize= (10,5))\n",
    "plt.title('Total Sales per Profit Center',color = 'black')\n",
    "plt.ylabel('Total Sales',color = 'black')\n",
    "\n",
    "sales['Credit_Amt'].groupby(sales['Acct_ID']).sum().plot(kind='bar',color='green')"
   ]
  },
  {
   "cell_type": "code",
   "execution_count": 468,
   "metadata": {},
   "outputs": [
    {
     "name": "stdout",
     "output_type": "stream",
     "text": [
      "Acct_ID       nan30020.030020.030020.030020.030020.030020.03...\n",
      "Inv_Num       Total37309373683748837489376313766037661376623...\n",
      "Debit_Amt                                             174509.38\n",
      "Credit_Amt                                           5745686.31\n",
      "year                                                   57560163\n",
      "dtype: object\n"
     ]
    }
   ],
   "source": [
    "salesByAcct = sales.sum()\n",
    "print(salesByAcct)"
   ]
  },
  {
   "cell_type": "code",
   "execution_count": 450,
   "metadata": {},
   "outputs": [
    {
     "data": {
      "image/png": "[encoded data removed]",
      "text/plain": [
       "<Figure size 1440x720 with 1 Axes>"
      ]
     },
     "metadata": {},
     "output_type": "display_data"
    }
   ],
   "source": [
    "# Show # of sales per year\n",
    "\n",
    "style.use('ggplot')\n",
    "\n",
    "fig=plt.figure(figsize= (20,10))\n",
    "\n",
    "sales_tot.plot(kind = 'bar', legend = False)\n",
    "plt.title('Sales per Year',color = 'black')\n",
    "plt.xticks(color = 'black')\n",
    "plt.yticks(color = 'black')\n",
    "plt.xlabel('Year',color = 'black')\n",
    "plt.ylabel('Total Sales',color = 'black')\n",
    "plt.savefig('bar_vertical.png')\n",
    "\n",
    "plt.show()"
   ]
  },
  {
   "cell_type": "markdown",
   "metadata": {
    "azdata_cell_guid": "d4931c0c-2c09-4ee1-95d4-73dd08c2f0a6"
   },
   "source": [
    "## Summarize Your Results\n",
    "\n",
    "With your EDA complete, answer the following questions.\n",
    "\n",
    "1. Was there anything surprising about your dataset? \n",
    "2. Do you have any concerns about your dataset? \n",
    "3. Is there anything you want to make note of for the next phase of your analysis, which is cleaning data? "
   ]
  },
  {
   "cell_type": "markdown",
   "metadata": {},
   "source": [
    "ANSWERS:\n",
    "1. - I was surprised to see a credit and a debit column instead of a total sales column. \n",
    "   - did not expect nulls in credit and debit columns.\n",
    "   - Had trouble converting my invoice date from 'object' type to datetime.  Had to do some research to solve.\n",
    "   \n",
    "2. - when I converted Credit and Debit columns to float, I ended up with more null values so not sure why.\n",
    "   - how to handle the nulls in credit amount. If I make them zero it will skew the mean sales.  I may decide to        delete those rows. \n",
    "    \n",
    "    \n",
    "3.  - I will have to figure out how to determine if a customer is a repeat customer.  \n",
    "    - delete rows that have nulls in Credit_Amt\n",
    "    - will have to decide how to handle the zip codes that are outside KC area.  These are addresses that are billed out of state but the work is done in town.\n",
    "    - create total sales column (Credit less Debit)\n",
    "    \n"
   ]
  }
 ],
 "metadata": {
  "kernelspec": {
   "display_name": "Python 3",
   "language": "python",
   "name": "python3"
  },
  "language_info": {
   "codemirror_mode": {
    "name": "ipython",
    "version": 3
   },
   "file_extension": ".py",
   "mimetype": "text/x-python",
   "name": "python",
   "nbconvert_exporter": "python",
   "pygments_lexer": "ipython3",
   "version": "3.8.8"
  }
 },
 "nbformat": 4,
 "nbformat_minor": 2
}
